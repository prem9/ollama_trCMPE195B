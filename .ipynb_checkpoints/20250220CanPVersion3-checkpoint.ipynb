{
 "cells": [
  {
   "cell_type": "code",
   "execution_count": 102,
   "id": "71e3f6d9-7172-4cec-b151-e83253fe017e",
   "metadata": {},
   "outputs": [
    {
     "name": "stdout",
     "output_type": "stream",
     "text": [
      "Defaulting to user installation because normal site-packages is not writeable\n",
      "Requirement already satisfied: ollama in c:\\users\\premm\\appdata\\local\\packages\\pythonsoftwarefoundation.python.3.12_qbz5n2kfra8p0\\localcache\\local-packages\\python312\\site-packages (0.4.7)\n",
      "Requirement already satisfied: httpx<0.29,>=0.27 in c:\\users\\premm\\appdata\\local\\packages\\pythonsoftwarefoundation.python.3.12_qbz5n2kfra8p0\\localcache\\local-packages\\python312\\site-packages (from ollama) (0.28.1)\n",
      "Requirement already satisfied: pydantic<3.0.0,>=2.9.0 in c:\\users\\premm\\appdata\\local\\packages\\pythonsoftwarefoundation.python.3.12_qbz5n2kfra8p0\\localcache\\local-packages\\python312\\site-packages (from ollama) (2.10.6)\n",
      "Requirement already satisfied: anyio in c:\\users\\premm\\appdata\\local\\packages\\pythonsoftwarefoundation.python.3.12_qbz5n2kfra8p0\\localcache\\local-packages\\python312\\site-packages (from httpx<0.29,>=0.27->ollama) (4.8.0)\n",
      "Requirement already satisfied: certifi in c:\\users\\premm\\appdata\\local\\packages\\pythonsoftwarefoundation.python.3.12_qbz5n2kfra8p0\\localcache\\local-packages\\python312\\site-packages (from httpx<0.29,>=0.27->ollama) (2025.1.31)\n",
      "Requirement already satisfied: httpcore==1.* in c:\\users\\premm\\appdata\\local\\packages\\pythonsoftwarefoundation.python.3.12_qbz5n2kfra8p0\\localcache\\local-packages\\python312\\site-packages (from httpx<0.29,>=0.27->ollama) (1.0.7)\n",
      "Requirement already satisfied: idna in c:\\users\\premm\\appdata\\local\\packages\\pythonsoftwarefoundation.python.3.12_qbz5n2kfra8p0\\localcache\\local-packages\\python312\\site-packages (from httpx<0.29,>=0.27->ollama) (3.10)\n",
      "Requirement already satisfied: h11<0.15,>=0.13 in c:\\users\\premm\\appdata\\local\\packages\\pythonsoftwarefoundation.python.3.12_qbz5n2kfra8p0\\localcache\\local-packages\\python312\\site-packages (from httpcore==1.*->httpx<0.29,>=0.27->ollama) (0.14.0)\n",
      "Requirement already satisfied: annotated-types>=0.6.0 in c:\\users\\premm\\appdata\\local\\packages\\pythonsoftwarefoundation.python.3.12_qbz5n2kfra8p0\\localcache\\local-packages\\python312\\site-packages (from pydantic<3.0.0,>=2.9.0->ollama) (0.7.0)\n",
      "Requirement already satisfied: pydantic-core==2.27.2 in c:\\users\\premm\\appdata\\local\\packages\\pythonsoftwarefoundation.python.3.12_qbz5n2kfra8p0\\localcache\\local-packages\\python312\\site-packages (from pydantic<3.0.0,>=2.9.0->ollama) (2.27.2)\n",
      "Requirement already satisfied: typing-extensions>=4.12.2 in c:\\users\\premm\\appdata\\local\\packages\\pythonsoftwarefoundation.python.3.12_qbz5n2kfra8p0\\localcache\\local-packages\\python312\\site-packages (from pydantic<3.0.0,>=2.9.0->ollama) (4.12.2)\n",
      "Requirement already satisfied: sniffio>=1.1 in c:\\users\\premm\\appdata\\local\\packages\\pythonsoftwarefoundation.python.3.12_qbz5n2kfra8p0\\localcache\\local-packages\\python312\\site-packages (from anyio->httpx<0.29,>=0.27->ollama) (1.3.1)\n",
      "Note: you may need to restart the kernel to use updated packages.\n"
     ]
    }
   ],
   "source": [
    "pip install ollama\n"
   ]
  },
  {
   "cell_type": "markdown",
   "id": "20f7b35a-f046-42d7-aed7-18800eb4d07e",
   "metadata": {},
   "source": [
    "RAG Application using Ollama and Langchain"
   ]
  },
  {
   "cell_type": "code",
   "execution_count": 103,
   "id": "ec0ed86c-8d2b-4a4f-8d27-e704b3a0fc8e",
   "metadata": {},
   "outputs": [],
   "source": [
    "from langchain_community.document_loaders import TextLoader\n",
    "from langchain_text_splitters import RecursiveCharacterTextSplitter\n",
    "from langchain.embeddings import OllamaEmbeddings\n",
    "from langchain_chroma import Chroma\n",
    "from langchain_ollama import ChatOllama"
   ]
  },
  {
   "cell_type": "code",
   "execution_count": 104,
   "id": "d22ba7d3-e692-4c9b-a4c1-293c4a281e52",
   "metadata": {},
   "outputs": [],
   "source": [
    "from langchain.document_loaders import PyPDFLoader\n",
    "\n",
    "# Load PDF files\n",
    "loader_1 = PyPDFLoader(\"./Context.pdf\")\n",
    "#loader_2 = PyPDFLoader(\"./Herbs that synergize with Carboplatin and Cisplatin V3.pdf\")\n",
    "#loader_3 = PyPDFLoader(\"./McKinney Surgery Pre and Post Op protocol.pdf\")\n",
    "\n",
    "# Load the documents\n",
    "raw_documents_1 = loader_1.load()\n",
    "#raw_documents_2 = loader_2.load()\n",
    "#raw_documents_3 = loader_3.load()\n",
    "\n",
    "# Combine all documents into one list\n",
    "all_raw_documents = raw_documents_1\n"
   ]
  },
  {
   "cell_type": "code",
   "execution_count": 105,
   "id": "2efcfe78-813a-4e8f-b52e-8120908d0b98",
   "metadata": {},
   "outputs": [],
   "source": [
    "#raw_documents= all_raw_documents\n",
    "#raw_documents= \"\"\n",
    "raw_documents = TextLoader(\"./context.txt\").load()"
   ]
  },
  {
   "cell_type": "code",
   "execution_count": 106,
   "id": "1c1e0c96-f9a2-49b8-b0e8-5453505f5631",
   "metadata": {},
   "outputs": [
    {
     "data": {
      "text/plain": [
       "[Document(metadata={'source': './context.txt'}, page_content=\"ï»¿* P-value: The p-value is a measure that helps scientists determine whether their findings are significant or just due to chance. A low p-value (usually less than 0.05) suggests that the results are likely not random and are worth paying attention to.\\n* Confidence Interval: A confidence interval gives a range of values within which the true value of something (like an average or effect) is expected to lie. For example, if a study says the average height is 170 cm with a 95% confidence interval of 160-180 cm, it means we can be 95% sure the true average height is between 160 and 180 cm.\\n* Odds Ratio: The odds ratio is a way to compare whether the odds of a certain event happening are the same for two groups. For example, if you're comparing the odds of getting a disease in people who smoke versus those who don't, an odds ratio of 2 would mean smokers are twice as likely to get the disease.\\n* Correlation Coefficient: The correlation coefficient measures how closely two things are related to each other. It ranges from -1 to 1, where 1 means a perfect positive relationship, -1 means a perfect negative relationship, and 0 means no relationship at all. For example, a correlation coefficient of 0.8 between hours studied and exam scores would suggest that more studying is strongly associated with higher scores.\\n* Hazard Ratio: A measure of how quickly an event (e.g., death or disease progression) occurs in one group compared to another over time. An HR less than 1 indicates a lower risk in the treatment group. Example: An HR of 0.7 means the new drug reduces the risk of death by 30% compared to the old drug.\\n* Relative Risk: The ratio of the probability of an outcome (e.g., side effects or recovery) occurring in the treatment group compared to the control group. Example: An RR of 0.5 for side effects means the new drug halves the risk of side effects compared to the old drug.\\n* Absolute Risk Reduction: The difference in risk of an outcome between two groups, showing the actual reduction in risk due to the treatment. Example: If 10% of patients on the old drug experience side effects and only 5% on the new drug do, the ARR is 5%.\\n* Number Needed to Treat: The number of patients who need to be treated to prevent one additional bad outcome (e.g., death or disease progression). Example: An NNT of 20 means 20 people need to take the new drug to prevent one additional death compared to the old drug.\\n* Number Needed to Harm: The number of patients who need to be treated for one additional person to experience a harmful outcome (e.g., side effects). Example: An NNH of 50 means 50 people need to take the new drug for one additional person to experience a side effect compared to the old drug.\\n* Survival Rate: The percentage of people who survive for a specific period (e.g., 1 year or 5 years) after starting treatment. Example: A 5-year survival rate of 80% means 80% of patients taking the new drug are still alive after 5 years.\\n* Progression-Free Survival: The length of time during and after treatment that a patient lives without the disease getting worse. Example: A PFS of 12 months means patients typically go 12 months without their condition worsening on the new drug, compared to 8 months on the old drug.\\n* Adverse Event: Any negative side effect or problem that occurs during treatment, whether related to the drug or not. Example: Nausea, fatigue, or headaches reported during a clinical trial are recorded as adverse events.\\n* Quality-Adjusted Life Years: A measure that combines the length and quality of life gained from a treatment, often used to compare the overall benefit of different treatments. Example: A new drug that adds 2 years of life at 80% quality of life provides 1.6 QALYs.\\n* Risk-Benefit Ratio: A comparison of the risks (e.g., side effects) and benefits (e.g., improved survival) of a treatment to determine if the benefits outweigh the risks. Example: A new drug with a high survival benefit but mild side effects has a favorable risk-benefit ratio.\\n* Sensitivity: The ability of a test to correctly identify people who have the disease. For example, a test with 90% sensitivity correctly detects the disease in 90 out of every 100 people who have it.\\n* Specificity: The ability of a test to correctly identify people who do not have the disease. For example, a test with 95% specificity correctly identifies 95 out of every 100 healthy individuals as disease-free.\\n* Positive Predictive Value (PPV): The likelihood that someone who has a positive test result actually has the disease. For example, a PPV of 80% means 8 out of 10 people with positive test results truly have the condition.\\n* Negative Predictive Value (NPV): The likelihood that someone who has a negative test result actually does not have the disease. For example, an NPV of 90% means that 9 out of 10 people with negative test results truly don't have the condition.\\n* Incidence Rate: The number of new cases of a disease that occur within a specific time frame among a defined group of people. For example, an incidence rate of 5 per 1,000 people per year means that every year, 5 new cases occur for every 1,000 people in the group.\\n* Prevalence: The total number of people who have a certain disease or condition at a specific point in time. For example, if the prevalence of diabetes in a community is 10%, it means 10 out of every 100 people have diabetes at that time.\\n* Mortality Rate: The number of deaths caused by a disease in a population within a certain period, usually expressed per 1,000 or 100,000 people per year. For example, a mortality rate of 20 per 100,000 means that out of every 100,000 people, 20 die of that disease each year.\\n* Intention-to-Treat Analysis (ITT): A method where all participants in a clinical trial are analyzed according to the group they were originally assigned, regardless of whether they completed the treatment. It helps provide a realistic view of the treatment's effectiveness in real-world conditions.\\n* Median Survival: The time point at which half of the patients in a study group are still alive, and half have died. For instance, a median survival of 18 months means half of the patients survived beyond 18 months.\")]"
      ]
     },
     "execution_count": 106,
     "metadata": {},
     "output_type": "execute_result"
    }
   ],
   "source": [
    "raw_documents"
   ]
  },
  {
   "cell_type": "code",
   "execution_count": 107,
   "id": "ca7273bf-ebc7-45e6-9721-780e966af4cc",
   "metadata": {},
   "outputs": [],
   "source": [
    "text_splitter = RecursiveCharacterTextSplitter(chunk_size=300, chunk_overlap=20)\n",
    "documents = text_splitter.split_documents(raw_documents)"
   ]
  },
  {
   "cell_type": "code",
   "execution_count": 108,
   "id": "aa1193c9-b040-4a20-b42c-60211b48fdf3",
   "metadata": {},
   "outputs": [
    {
     "data": {
      "text/plain": [
       "28"
      ]
     },
     "execution_count": 108,
     "metadata": {},
     "output_type": "execute_result"
    }
   ],
   "source": [
    "len(documents)"
   ]
  },
  {
   "cell_type": "code",
   "execution_count": 109,
   "id": "880cf368-701a-4b8d-83ce-db5b9b68766b",
   "metadata": {},
   "outputs": [
    {
     "name": "stdout",
     "output_type": "stream",
     "text": [
      "page_content='ï»¿* P-value: The p-value is a measure that helps scientists determine whether their findings are significant or just due to chance. A low p-value (usually less than 0.05) suggests that the results are likely not random and are worth paying attention to.' metadata={'source': './context.txt'}\n",
      "page_content='* Confidence Interval: A confidence interval gives a range of values within which the true value of something (like an average or effect) is expected to lie. For example, if a study says the average height is 170 cm with a 95% confidence interval of 160-180 cm, it means we can be 95% sure the true' metadata={'source': './context.txt'}\n"
     ]
    }
   ],
   "source": [
    "print(documents[0])\n",
    "print(documents[1])"
   ]
  },
  {
   "cell_type": "code",
   "execution_count": 110,
   "id": "1340c770-b653-4c36-8b37-a84d2ab1f5a6",
   "metadata": {},
   "outputs": [],
   "source": [
    "from langchain_ollama import OllamaEmbeddings"
   ]
  },
  {
   "cell_type": "code",
   "execution_count": 111,
   "id": "a5b77afc-6446-4cb7-8835-c9eb7584fe2e",
   "metadata": {},
   "outputs": [],
   "source": [
    "oembed = OllamaEmbeddings(base_url=\"http://localhost:11434\", model=\"nomic-embed-text\")"
   ]
  },
  {
   "cell_type": "code",
   "execution_count": 112,
   "id": "1290828b-afc9-4139-9458-bde193d6b290",
   "metadata": {},
   "outputs": [],
   "source": [
    "db = Chroma.from_documents(documents, embedding=oembed)"
   ]
  },
  {
   "cell_type": "code",
   "execution_count": 113,
   "id": "b1cda347-37b2-492d-9b04-ac2a3141745c",
   "metadata": {},
   "outputs": [],
   "source": [
    "query = \"Summarize the article about Carboplatin usage in cancer treatment.\"\n",
    "docs = db.similarity_search(query)"
   ]
  },
  {
   "cell_type": "code",
   "execution_count": 114,
   "id": "5399981f-6156-4869-a5a7-4bd17cf2d0bc",
   "metadata": {},
   "outputs": [
    {
     "data": {
      "text/plain": [
       "4"
      ]
     },
     "execution_count": 114,
     "metadata": {},
     "output_type": "execute_result"
    }
   ],
   "source": [
    "len(docs)"
   ]
  },
  {
   "cell_type": "code",
   "execution_count": 115,
   "id": "d03a0ee6-e869-4d4d-8354-4bfc3fd9c839",
   "metadata": {},
   "outputs": [
    {
     "name": "stdout",
     "output_type": "stream",
     "text": [
      "* Intention-to-Treat Analysis (ITT): A method where all participants in a clinical trial are analyzed according to the group they were originally assigned, regardless of whether they completed the treatment. It helps provide a realistic view of the treatment's effectiveness in real-world\n"
     ]
    }
   ],
   "source": [
    "print(docs[3].page_content)"
   ]
  },
  {
   "cell_type": "code",
   "execution_count": 116,
   "id": "455f2a53-9f82-4b07-b0e4-45860f600b95",
   "metadata": {},
   "outputs": [],
   "source": [
    "from langchain_core.prompts import ChatPromptTemplate\n",
    "from langchain_core.output_parsers import StrOutputParser\n",
    "from langchain_core.runnables import RunnablePassthrough"
   ]
  },
  {
   "cell_type": "code",
   "execution_count": 155,
   "id": "bd5e1a3c-a384-4310-8d90-9a97fc779919",
   "metadata": {},
   "outputs": [],
   "source": [
    "template = \"\"\"Please summarize the following medical article in simple language suitable for patients:\n",
    "\n",
    "{article_text}\n",
    "\n",
    "Thank you.\"\"\"\n",
    "prompt = ChatPromptTemplate.from_template(template)"
   ]
  },
  {
   "cell_type": "code",
   "execution_count": 156,
   "id": "8bcdecc5-2ab7-4a74-b612-2e967022922d",
   "metadata": {},
   "outputs": [],
   "source": [
    "model = ChatOllama(\n",
    "    model=\"llama3.1:latest\",\n",
    "    temperature=0\n",
    ")"
   ]
  },
  {
   "cell_type": "code",
   "execution_count": 157,
   "id": "65b70ce4-fe8a-41ac-90f7-a996ac1a428f",
   "metadata": {},
   "outputs": [],
   "source": [
    "retriever = db.as_retriever()"
   ]
  },
  {
   "cell_type": "code",
   "execution_count": 158,
   "id": "5d15c687-089d-4fd1-826c-c107a7f8d6f2",
   "metadata": {},
   "outputs": [],
   "source": [
    "def format_docs(docs):\n",
    "    return \"\\n\\n\".join([d.page_content for d in docs])"
   ]
  },
  {
   "cell_type": "code",
   "execution_count": 159,
   "id": "5f08bcd1-ef6d-4437-88e0-a6d2282786e3",
   "metadata": {},
   "outputs": [
    {
     "name": "stdout",
     "output_type": "stream",
     "text": [
      "An official website of the United States government\n",
      "\n",
      "Official websites use .govA.govwebsite belongs to an official\n",
      "                            government organization in the United States.\n",
      "\n",
      "Secure .gov websites use HTTPSAlock(LockLocked padlock icon) orhttps://means you've safely\n",
      "                                connected to the .gov website. Share sensitive\n",
      "                                information only on official, secure websites.\n",
      "\n",
      "Primary site navigation\n",
      "\n",
      "Logged in as:\n",
      "\n",
      "Correspondence:ismail_onco@yahoo.fr(I.E.);gilles.freyer@univ-lyon1.fr(G.F.)\n",
      "\n",
      "Received 2023 Feb 19; Revised 2023 Mar 7; Accepted 2023 Mar 11; Collection date 2023 Mar.\n",
      "\n",
      "Licensee MDPI, Basel, Switzerland. This article is an open access article distributed under the terms and conditions of the Creative Commons Attribution (CC BY) license (https://creativecommons.org/licenses/by/4.0/).\n",
      "\n",
      "Since the advent of trastuzumab in HER2-positive metastatic breast cancer management, the natural history of this disease continues to improve. The development of molecular biology and better knowledge of the resistance mechanisms of cancer cells have enabled the development of several therapies targeting HER2 and consequently improved the overall survival of these patients. This paper aims to review the new therapies developed for this entity of breast cancer, their tolerance profiles, and their positions in therapeutic strategy.\n",
      "\n",
      "For several years, the overexpression of the HER2 receptor in breast cancer has been correlated with a poor prognosis and an increased risk of developing brain metastases. Currently, the combination of anti-HER2 double blockade and taxane and trastuzumab emtansine (T-DM1) are considered the standard treatments for metastatic breast cancer overexpressing these receptors in the first and second line. Very recently, the development of a new antidrug conjugate, trastuzumab–deruxtecan, has improved the overall survival of patients, even in second-line treatment. However, trastuzumab–deruxtecan has become a new standard. Despite the benefits of these antidrug conjugates, this benefit in patients with brain metastases remains unclear. Tucatinib is a new tyrosine kinase inhibitor that has given hope for the treatment of these patients. The objective of this article was to review data on the established drugs and novel agents for HER2-positive MBC and to discuss how to incorporate anti-HER2 therapies in first and later-line settings.\n",
      "\n",
      "Keywords:metastatic breast cancer, HER2-positive, targeted therapies\n",
      "\n",
      "Breast cancer is the leading cause of cancer-related mortality among females in the world [1]. Approximately 15 percent of breast cancers overexpress human epidermal growth factor receptor 2 (HER2) [2]. HER2-positive breast cancer is diagnosed by IHC. A strong expression in IHC (score 3+) is sufficient. For the equivocal forms (score 2+), a recourse to in-situ hybridization (ISH) is necessary to rule on the amplification of the HER2 gene. The scores 1+ and 0 are systematically co\n"
     ]
    }
   ],
   "source": [
    "import requests\n",
    "from bs4 import BeautifulSoup\n",
    "\n",
    "def extract_pmc_article_xml_test(pmc_id):\n",
    "    xml_url = f\"https://www.ncbi.nlm.nih.gov/pmc/articles/PMC{pmc_id}/?report=xml&format=text\"\n",
    "    headers = {'User-Agent': 'Mozilla/5.0'}\n",
    "    response = requests.get(xml_url, headers=headers)\n",
    "    response.raise_for_status()\n",
    "\n",
    "    soup = BeautifulSoup(response.content, 'lxml')\n",
    "\n",
    "    paragraphs = soup.find_all('p')\n",
    "    text = \"\\n\\n\".join(p.get_text(strip=True) for p in paragraphs)\n",
    "\n",
    "    return text.strip()\n",
    "\n",
    "# Usage example:\n",
    "pmc_id = '10046228'\n",
    "article_text = extract_pmc_article_xml_test(pmc_id)\n",
    "print(article_text[:3000])  # preview first 3000 chars\n",
    "\n"
   ]
  },
  {
   "cell_type": "code",
   "execution_count": 160,
   "id": "ce2c6c08-c59a-47f1-8803-e0d1bbbfa717",
   "metadata": {},
   "outputs": [],
   "source": [
    "import requests\n",
    "from bs4 import BeautifulSoup\n",
    "\n",
    "def extract_pmc_article_xml(pmc_url):\n",
    "    pmc_id = pmc_url.strip('/').split('/')[-1].replace('PMC', '')\n",
    "    xml_url = f\"https://www.ncbi.nlm.nih.gov/pmc/articles/PMC{pmc_id}/?report=xml&format=text\"\n",
    "    headers = {'User-Agent': 'Mozilla/5.0'}\n",
    "    \n",
    "    response = requests.get(xml_url, headers=headers)\n",
    "    response.raise_for_status()\n",
    "\n",
    "    soup = BeautifulSoup(response.content, 'lxml')\n",
    "\n",
    "    paragraphs = soup.find_all('p')\n",
    "    if not paragraphs:\n",
    "        raise ValueError(\"Could not extract content from XML format.\")\n",
    "\n",
    "    text = \"\\n\\n\".join(p.get_text(strip=True) for p in paragraphs)\n",
    "    return text.strip()\n"
   ]
  },
  {
   "cell_type": "code",
   "execution_count": 161,
   "id": "d22ca34d-a9d0-4706-a8ff-c8f9f00aca2b",
   "metadata": {},
   "outputs": [],
   "source": [
    "from langchain.schema.runnable import RunnablePassthrough, RunnableLambda\n",
    "\n",
    "# Use RunnableLambda to integrate your Python function\n",
    "url_to_text = RunnableLambda(lambda url: {\"article_text\": extract_pmc_article_xml(url)})"
   ]
  },
  {
   "cell_type": "code",
   "execution_count": 162,
   "id": "e930f72c-20e5-417e-8dfb-1147de72a1af",
   "metadata": {},
   "outputs": [],
   "source": [
    "chain = (\n",
    "    RunnablePassthrough()\n",
    "    | url_to_text\n",
    "    | prompt\n",
    "    | model\n",
    "    | StrOutputParser()\n",
    ")"
   ]
  },
  {
   "cell_type": "code",
   "execution_count": 163,
   "id": "5e189434-ae98-4058-901f-be815bc7ae36",
   "metadata": {},
   "outputs": [],
   "source": [
    "summary = chain.invoke(\"https://pmc.ncbi.nlm.nih.gov/articles/PMC10046228/\")"
   ]
  },
  {
   "cell_type": "code",
   "execution_count": 164,
   "id": "4cb44606-6c30-422b-a7fa-dd8d12194282",
   "metadata": {},
   "outputs": [
    {
     "name": "stdout",
     "output_type": "stream",
     "text": [
      "This appears to be a research article on HER2-positive breast cancer, specifically discussing the latest developments in treatment options and therapies. Here's a summary:\n",
      "\n",
      "**Key Findings:**\n",
      "\n",
      "1. **New treatments:** The article discusses several new anti-HER2 drugs, including T-DXd (trastuzumab-duparlimab), SYD985 (trastuzumab-duocarmazine), and tucatinib.\n",
      "2. **Double anti-HER2 blockade:** The double anti-HER2 blockade remains the \"gold standard\" in initial management of metastatic HER2 breast cancer.\n",
      "3. **T-DXd superiority:** T-DXd has shown superiority over T-DM1 (trastuzumab-emtansine) in second-line treatment.\n",
      "4. **Tyrosine kinase inhibitor tucatinib:** Tucatinib has shown benefit even on brain lesions and may become a new option for first-line treatment.\n",
      "\n",
      "**Open Questions:**\n",
      "\n",
      "1. **Biomarkers:** The article highlights the need to identify biomarkers that can select responder patients.\n",
      "2. **Therapeutic combinations and sequences:** The optimal therapeutic combinations and sequences remain unclear.\n",
      "\n",
      "**Methodology:**\n",
      "\n",
      "The authors declare no conflict of interest, and this research received no external funding.\n",
      "\n",
      "**Authorship:**\n",
      "\n",
      "The article was written by a team of researchers led by I.E. and Z.B., with contributions from G.F., M.K., T.R., and P.C.\n",
      "\n",
      "**Disclaimer:**\n",
      "\n",
      "The statements and opinions in the article are solely those of the authors, and MDPI disclaims responsibility for any injury resulting from ideas or products referred to in the content.\n"
     ]
    }
   ],
   "source": [
    "print(summary)"
   ]
  }
 ],
 "metadata": {
  "kernelspec": {
   "display_name": "Python 3 (ipykernel)",
   "language": "python",
   "name": "python3"
  },
  "language_info": {
   "codemirror_mode": {
    "name": "ipython",
    "version": 3
   },
   "file_extension": ".py",
   "mimetype": "text/x-python",
   "name": "python",
   "nbconvert_exporter": "python",
   "pygments_lexer": "ipython3",
   "version": "3.12.9"
  }
 },
 "nbformat": 4,
 "nbformat_minor": 5
}
