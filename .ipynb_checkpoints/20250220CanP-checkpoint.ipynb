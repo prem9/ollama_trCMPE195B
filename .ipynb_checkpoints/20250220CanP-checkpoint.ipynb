{
 "cells": [
  {
   "cell_type": "code",
   "execution_count": 1,
   "id": "71e3f6d9-7172-4cec-b151-e83253fe017e",
   "metadata": {},
   "outputs": [
    {
     "name": "stdout",
     "output_type": "stream",
     "text": [
      "Defaulting to user installation because normal site-packages is not writeable\n",
      "Requirement already satisfied: ollama in c:\\users\\premm\\appdata\\local\\packages\\pythonsoftwarefoundation.python.3.12_qbz5n2kfra8p0\\localcache\\local-packages\\python312\\site-packages (0.4.7)\n",
      "Requirement already satisfied: httpx<0.29,>=0.27 in c:\\users\\premm\\appdata\\local\\packages\\pythonsoftwarefoundation.python.3.12_qbz5n2kfra8p0\\localcache\\local-packages\\python312\\site-packages (from ollama) (0.28.1)\n",
      "Requirement already satisfied: pydantic<3.0.0,>=2.9.0 in c:\\users\\premm\\appdata\\local\\packages\\pythonsoftwarefoundation.python.3.12_qbz5n2kfra8p0\\localcache\\local-packages\\python312\\site-packages (from ollama) (2.10.6)\n",
      "Requirement already satisfied: anyio in c:\\users\\premm\\appdata\\local\\packages\\pythonsoftwarefoundation.python.3.12_qbz5n2kfra8p0\\localcache\\local-packages\\python312\\site-packages (from httpx<0.29,>=0.27->ollama) (4.8.0)\n",
      "Requirement already satisfied: certifi in c:\\users\\premm\\appdata\\local\\packages\\pythonsoftwarefoundation.python.3.12_qbz5n2kfra8p0\\localcache\\local-packages\\python312\\site-packages (from httpx<0.29,>=0.27->ollama) (2025.1.31)\n",
      "Requirement already satisfied: httpcore==1.* in c:\\users\\premm\\appdata\\local\\packages\\pythonsoftwarefoundation.python.3.12_qbz5n2kfra8p0\\localcache\\local-packages\\python312\\site-packages (from httpx<0.29,>=0.27->ollama) (1.0.7)\n",
      "Requirement already satisfied: idna in c:\\users\\premm\\appdata\\local\\packages\\pythonsoftwarefoundation.python.3.12_qbz5n2kfra8p0\\localcache\\local-packages\\python312\\site-packages (from httpx<0.29,>=0.27->ollama) (3.10)\n",
      "Requirement already satisfied: h11<0.15,>=0.13 in c:\\users\\premm\\appdata\\local\\packages\\pythonsoftwarefoundation.python.3.12_qbz5n2kfra8p0\\localcache\\local-packages\\python312\\site-packages (from httpcore==1.*->httpx<0.29,>=0.27->ollama) (0.14.0)\n",
      "Requirement already satisfied: annotated-types>=0.6.0 in c:\\users\\premm\\appdata\\local\\packages\\pythonsoftwarefoundation.python.3.12_qbz5n2kfra8p0\\localcache\\local-packages\\python312\\site-packages (from pydantic<3.0.0,>=2.9.0->ollama) (0.7.0)\n",
      "Requirement already satisfied: pydantic-core==2.27.2 in c:\\users\\premm\\appdata\\local\\packages\\pythonsoftwarefoundation.python.3.12_qbz5n2kfra8p0\\localcache\\local-packages\\python312\\site-packages (from pydantic<3.0.0,>=2.9.0->ollama) (2.27.2)\n",
      "Requirement already satisfied: typing-extensions>=4.12.2 in c:\\users\\premm\\appdata\\local\\packages\\pythonsoftwarefoundation.python.3.12_qbz5n2kfra8p0\\localcache\\local-packages\\python312\\site-packages (from pydantic<3.0.0,>=2.9.0->ollama) (4.12.2)\n",
      "Requirement already satisfied: sniffio>=1.1 in c:\\users\\premm\\appdata\\local\\packages\\pythonsoftwarefoundation.python.3.12_qbz5n2kfra8p0\\localcache\\local-packages\\python312\\site-packages (from anyio->httpx<0.29,>=0.27->ollama) (1.3.1)\n",
      "Note: you may need to restart the kernel to use updated packages.\n"
     ]
    }
   ],
   "source": [
    "pip install ollama\n"
   ]
  },
  {
   "cell_type": "markdown",
   "id": "20f7b35a-f046-42d7-aed7-18800eb4d07e",
   "metadata": {},
   "source": [
    "RAG Application using Ollama and Langchain"
   ]
  },
  {
   "cell_type": "code",
   "execution_count": 6,
   "id": "ec0ed86c-8d2b-4a4f-8d27-e704b3a0fc8e",
   "metadata": {},
   "outputs": [],
   "source": [
    "from langchain_community.document_loaders import TextLoader\n",
    "from langchain_text_splitters import RecursiveCharacterTextSplitter\n",
    "from langchain.embeddings import OllamaEmbeddings\n",
    "from langchain_chroma import Chroma\n",
    "from langchain_ollama import ChatOllama"
   ]
  },
  {
   "cell_type": "code",
   "execution_count": 2,
   "id": "2e4f0c7c-f21d-4640-afb2-5d06cbc78218",
   "metadata": {},
   "outputs": [],
   "source": [
    "raw_documents = TextLoader(\"./LangchainRetrieval.txt\").load()"
   ]
  },
  {
   "cell_type": "code",
   "execution_count": 1,
   "id": "d22ba7d3-e692-4c9b-a4c1-293c4a281e52",
   "metadata": {},
   "outputs": [
    {
     "name": "stderr",
     "output_type": "stream",
     "text": [
      "Ignoring wrong pointing object 8 0 (offset 0)\n",
      "Ignoring wrong pointing object 12 0 (offset 0)\n",
      "Ignoring wrong pointing object 14 0 (offset 0)\n",
      "Ignoring wrong pointing object 16 0 (offset 0)\n",
      "Ignoring wrong pointing object 18 0 (offset 0)\n",
      "Ignoring wrong pointing object 21 0 (offset 0)\n",
      "Ignoring wrong pointing object 31 0 (offset 0)\n",
      "Ignoring wrong pointing object 37 0 (offset 0)\n",
      "Ignoring wrong pointing object 39 0 (offset 0)\n",
      "Ignoring wrong pointing object 41 0 (offset 0)\n",
      "Ignoring wrong pointing object 43 0 (offset 0)\n",
      "Ignoring wrong pointing object 45 0 (offset 0)\n",
      "Ignoring wrong pointing object 59 0 (offset 0)\n",
      "Ignoring wrong pointing object 61 0 (offset 0)\n",
      "Ignoring wrong pointing object 8 0 (offset 0)\n",
      "Ignoring wrong pointing object 12 0 (offset 0)\n",
      "Ignoring wrong pointing object 14 0 (offset 0)\n",
      "Ignoring wrong pointing object 16 0 (offset 0)\n",
      "Ignoring wrong pointing object 18 0 (offset 0)\n",
      "Ignoring wrong pointing object 20 0 (offset 0)\n",
      "Ignoring wrong pointing object 19 0 (offset 0)\n"
     ]
    }
   ],
   "source": [
    "from langchain.document_loaders import PyPDFLoader\n",
    "\n",
    "# Load PDF files\n",
    "loader_1 = PyPDFLoader(\"./Herbs that synergize with TaxanesKadcylaEnhertu v7.pdf\")\n",
    "loader_2 = PyPDFLoader(\"./Herbs that synergize with Carboplatin and Cisplatin V3.pdf\")\n",
    "loader_3 = PyPDFLoader(\"./McKinney Surgery Pre and Post Op protocol.pdf\")\n",
    "\n",
    "# Load the documents\n",
    "raw_documents_1 = loader_1.load()\n",
    "raw_documents_2 = loader_2.load()\n",
    "raw_documents_3 = loader_3.load()\n",
    "\n",
    "# Combine all documents into one list\n",
    "all_raw_documents = raw_documents_1 + raw_documents_2 + raw_documents_3\n"
   ]
  },
  {
   "cell_type": "code",
   "execution_count": 3,
   "id": "2efcfe78-813a-4e8f-b52e-8120908d0b98",
   "metadata": {},
   "outputs": [],
   "source": [
    "raw_documents= all_raw_documents"
   ]
  },
  {
   "cell_type": "code",
   "execution_count": 4,
   "id": "1c1e0c96-f9a2-49b8-b0e8-5453505f5631",
   "metadata": {},
   "outputs": [
    {
     "data": {
      "text/plain": [
       "[Document(metadata={'producer': 'macOS Version 10.15.7 (Build 19H2026) Quartz PDFContext', 'creator': 'Word', 'creationdate': \"D:20230827223908Z00'00'\", 'title': 'Microsoft Word - Herbs that synergize with TaxanesKadcylaEnhertu v7.docx', 'moddate': \"D:20230827223908Z00'00'\", 'source': './Herbs that synergize with TaxanesKadcylaEnhertu v7.pdf', 'total_pages': 7, 'page': 0, 'page_label': '1'}, page_content='Herbs and Natural Substances Synergies with Taxanes  (Taxol, Paclitaxel, Docetaxel, Taxotere), Vinorelbine, Enhertu, and Kadcyla  \\n Disclaimer: This document is for informational purposes, does not constitute medical advice, and should not replace the advice of a medical professional. \\nSynergistic\\tSubstances\\twith\\tChemotherapy\\tSafe\\tto\\tuse\\tthe\\tfollowing\\tduring\\tchemotherapy\\tcycle\\tto\\tincrease\\teffectiveness,\\tsupport\\timmune\\tsystem,\\tand\\treduce\\tside\\teffects:\\tØ Curcumin\\t(Start\\tat\\ta\\tlow\\tdose\\tand\\twork\\tup.\\tNo\\teffect\\ton\\tCYP3A4\\tin\\thuman\\tstudies)\\tØ Medicinal\\tmushrooms:\\tTurkey\\ttail\\t(Coriolis\\tversicolor),\\tReishi,\\tChaga,\\tCordyceps,\\tPoria\\tCocos,\\tMaitake,\\tShitake\\tØ Beta-glucans\\tØ AHCC\\t(derived\\tfrom\\tShitake\\tmushroom)\\tØ Melatonin\\t(20\\tmg+)\\tØ Astragalus\\tØ Ginger\\tØ Echinacea\\tØ Milk\\tthistle\\tØ Resveratrol\\t(low\\tdose\\tof\\t200\\tmg\\ttrans-resveratrol\\tor\\tless\\tper\\tday)\\tØ GLA\\tfrom\\tborage\\tor\\tblack\\tcurrent\\toil\\t(not\\tEvening\\tPrimrose\\tOil)\\tØ EPA/DHA\\tfrom\\tfish\\toil\\tor\\talgae\\toil\\t(best\\ttaken\\twith\\ttocotrienols)\\tØ Tocotrienols\\t(not\\ttocopherols)\\tØ Artemisinen\\t(IV\\tgiven\\tday\\tbefore\\tchemo,\\tor\\toral\\ttimed\\t4\\tdays\\tleading\\tup\\tto\\tchemo)\\tØ L-glutamine\\ton\\tchemo\\tdays\\t1-3\\tfor\\tTaxanes,\\t1-4\\tfor\\tKadcyla,\\tand\\t1-6\\tfor\\tEnhertu\\tto\\tprotect\\tgut\\tand\\tavoid\\tnerve\\tdamage.\\t\\to Dr.\\tAlschuler\\tstates\\tl-glutamine\\tenhances\\tTaxane\\tchemotherapy.\\to Don’t\\tpanic\\tabout\\tl-glutamine\\t“feeding”\\tthe\\tcancer\\twhile\\tthe\\tchemo\\tis\\tactive.\\t\\tNeuropathy\\tis\\tforever!\\to Methylated\\tB12\\tmay\\tbe\\tneeded\\tthroughout\\ttreatment\\tif\\tyou\\thave\\ta\\tdeficiency\\tbut\\tthis\\tis\\tbest\\tdiscussed\\twith\\tan\\tintegrative\\tdoctor.\\to Benfotiamine\\tform\\tof\\tB1,\\tB6,\\tomega-3\\tEPA/DHA,\\tand\\tR-alpha\\tlipoic\\tacid\\tto\\treduce\\trisk\\tof\\tor\\ttreat\\tneuropathy.\\t\\tCycle\\tRecommendations\\tfor\\tChemotherapy\\tMany\\therbs\\tand\\tnatural\\tsubstances\\tsynergize\\twith\\tTaxanes\\t(and\\tlikely\\tVinorelbine,\\tEnhertu,\\tand\\tKadcyla\\tas\\tthey\\tare\\tmicrotubule\\tdisrupters\\tas\\twell)\\tbased\\ton\\tin\\tvitro\\tand\\tanimal\\tstudies.\\tHowever,\\tbecause\\tof\\tpotential\\tor\\tunknown\\tinteractions\\tin\\thumans\\tthat\\tcould\\tcause\\tthe\\tdrug\\tto\\tbe\\tless\\teffective\\tor\\tcause\\tsevere\\tside\\teffects,\\tsome\\tsupplements\\t(not\\tincluding\\tsafe\\tones\\tlisted\\tabove)\\tshould\\tbe\\tstopped\\tduring\\tthe\\tactive\\tdays\\tof\\tthe\\tinfusion,\\tunless\\totherwise\\tinstructed\\tby\\tan\\tintegrative\\tcancer\\tpractitioner.\\tGuidelines\\tfor\\ttiming\\tsupplements\\twith\\tpotential\\tinteractions\\tduring\\tinfusion\\tcycles:\\tØ Taxanes\\t(Taxol,\\tPaclitaxel,\\tDocetaxel,\\tTaxotere)\\tand\\tVinorelbine\\t3-week\\tcycle:\\tstop\\tthe\\tday\\tbefore\\tand\\tdays\\t1-3\\tØ Taxol\\tor\\tVinborelbine\\t(reduced\\tdose)\\t1-week\\tcycle:\\tstop\\tthe\\tday\\tbefore\\tand\\tthe\\tday\\tof\\tØ Kadcyla\\t(TDM-1)\\t3-week\\tcycle:\\tstop\\tthe\\tday\\tbefore\\tand\\tdays\\t1-5\\tØ Enhertu\\t(Trastuzumab\\tderextecan)\\t3-week\\tcycle:\\tstop\\tday\\tbefore\\tand\\tdays\\t1-7'),\n",
       " Document(metadata={'producer': 'macOS Version 10.15.7 (Build 19H2026) Quartz PDFContext', 'creator': 'Word', 'creationdate': \"D:20230827223908Z00'00'\", 'title': 'Microsoft Word - Herbs that synergize with TaxanesKadcylaEnhertu v7.docx', 'moddate': \"D:20230827223908Z00'00'\", 'source': './Herbs that synergize with TaxanesKadcylaEnhertu v7.pdf', 'total_pages': 7, 'page': 1, 'page_label': '2'}, page_content='Herbs and Natural Substances Synergies with Taxanes  (Taxol, Paclitaxel, Docetaxel, Taxotere), Vinorelbine, Enhertu, and Kadcyla  \\n Disclaimer: This document is for informational purposes, does not constitute medical advice, and should not replace the advice of a medical professional. \\nPotentially\\tSynergistic\\tbut\\tPossibly\\tShould\\tbe\\tStopped\\ton\\tActive\\tChemo\\tDays\\tto\\tAvoid\\tInteractions\\tSome\\tsubstances\\tmay\\tbe\\tused\\tduring\\tchemotherapy\\tto\\thelp\\treduce\\tdrug\\tresistance\\tand\\thelp\\tthe\\tdrug\\twork\\tbetter\\tbut\\tpossibly\\tshould\\tbe\\tavoided\\ton\\tactive\\tchemo\\tdays\\tper\\tthe\\tguidelines\\tabove.\\t\\tIn\\tsome\\tcases,\\tin\\tvitro\\tor\\tanimal\\tresearch\\tsuggests\\tsynergy\\tbetween\\tthese\\tsubstances\\tand\\tthe\\tdrugs,\\tbut\\tcaution\\tis\\tneeded\\tbecause\\tof\\tthe\\tpotential\\tfor\\tserious\\tside\\teffects\\tor\\treduced\\tdrug\\tpotency.\\tUse\\tof\\tthese\\tduring\\tthe\\tactive\\tdays\\tof\\tchemo\\tcycles\\tshould\\tbe\\tdone\\tONLY\\tunder\\tthe\\tguidance\\tof\\tan\\texperienced\\tintegrative\\tpractitioner):\\tØ Hydroxytyrosol\\tor\\tOleuropein\\tØ Black\\tseed\\toil\\t(thymoquinone)\\t\\tØ Feverfew\\t\\tØ Ashwagandha\\t\\tØ Panax\\tginseng\\t\\tØ Magnolia\\t(Honokiol)\\t\\tØ EGCG\\t\\tØ Propolis\\t\\tØ PEITC\\t(isothiocyanate\\tfrom\\twatercress,\\tturnip,\\tcabbage)\\tØ Resveratrol\\tØ Baicalein\\tØ Betulinic\\tacid\\tØ Quercetin\\tØ Apigenin\\tØ Artemisinen\\t(consider\\tIV\\tartusenate\\tday\\tbefore\\tor\\toral\\t4\\tdays\\tleading\\tup\\tto\\tinfusion\\tincluding\\tday\\tbefore.\\tIdeal\\tdosing\\tis\\t4-7\\tdays\\ton,\\t4-7\\tdays\\toff,\\tso\\tcontinue\\tthrough\\tcycle\\tto\\ttime\\tappropriately.)\\t\\tWith\\tany\\therb\\tor\\tsupplement,\\tadd\\tslowly,\\tone\\tnew\\therb\\tat\\ta\\ttime,\\tand\\tat\\tlower\\tdose\\tto\\tstart.\\t\\tThat\\tway\\tyou\\tknow\\tif\\ta\\tparticular\\tsupplement\\tis\\tcausing\\tany\\tside\\teffects\\tthat\\tyou\\texperience.\\t\\tUse\\twith\\tHerceoptin\\tor\\twith\\tChemotherapy\\tProtocols\\tthat\\tInclude\\tHerceptin\\t(also\\tKadyla\\tand\\tEnhertu)\\tHerceptin\\tcarries\\ta\\trisk\\tof\\tsometimes\\tirreversible\\tdamage\\tto\\tthe\\theart\\tmuscle.\\t\\tCertain\\therbs\\tand\\tnatural\\tsubstances\\tshould\\tbe\\ttaken\\tthroughout\\ttreatment\\tto\\treduce\\tthis\\trisk.\\tConsult\\tintegrative\\tpractitioner\\tabout\\twhether\\tto\\tstop\\tthese\\tantioxidants\\ton\\tactive\\tchemo\\tdays—not\\tall\\tagree\\tthat\\tthis\\tis\\tnecessary\\tor\\teven\\twise:\\tØ CoQ10\\tØ Hawthorn\\tleaf\\tand\\tflower\\tØ Selenium\\tØ Resveratrol\\tØ Statin\\tdrug\\t(according\\tto\\trecent\\tclinical\\ttrials,\\tbut\\twith\\tCoQ10\\tseparated\\tby\\t12\\thours)'),\n",
       " Document(metadata={'producer': 'macOS Version 10.15.7 (Build 19H2026) Quartz PDFContext', 'creator': 'Word', 'creationdate': \"D:20230827223908Z00'00'\", 'title': 'Microsoft Word - Herbs that synergize with TaxanesKadcylaEnhertu v7.docx', 'moddate': \"D:20230827223908Z00'00'\", 'source': './Herbs that synergize with TaxanesKadcylaEnhertu v7.pdf', 'total_pages': 7, 'page': 2, 'page_label': '3'}, page_content='Herbs and Natural Substances Synergies with Taxanes  (Taxol, Paclitaxel, Docetaxel, Taxotere), Vinorelbine, Enhertu, and Kadcyla  \\n Disclaimer: This document is for informational purposes, does not constitute medical advice, and should not replace the advice of a medical professional. \\nUse\\twith\\tChemotherapy\\tunder\\tGuidance\\tof\\tIntegrative\\tDoctor\\tIntegrative\\tdoctors\\tmay\\tuse\\tcertain\\ttreatments\\tto\\tenhance\\tthe\\teffectiveness\\tof\\tchemotherapy.\\t\\tThese\\tshould\\tbe\\ttimed,\\tdosed,\\tand\\tadministered\\tby\\ta\\tmedical\\tprofessional:\\t\\t Ø Mistletoe\\tØ Ivermectin\\tØ Low-Dose\\tNaltrexone\\t\\tØ IV\\talpha\\tlipoic\\tacid\\t\\tØ IV\\tVitamin\\tC\\tØ IV\\tArtusenate\\tØ Other\\toff-label\\tdrugs\\t(COC\\tdrugs\\tetc.)\\tand\\tIV\\ttreatments\\t\\t References\\tBooks\\tand\\tpresentations:\\t\\t“Introduction\\tto\\tthe\\tEclectic\\tTriphasic\\tMedical\\tSystem\\t(ETMS)”\\tpresentation\\tby\\tDonnie\\tYance,\\tMaster\\tHerbalist\\tand\\tcancer\\tspecialist\\tNaturopathic\\tOncology\\tby\\tDr.\\tNeil\\tMcKinney,\\tND\\tThe\\tDefinitive\\tGuide\\tto\\tCancer\\tby\\tLise\\tAlschuler,\\tND\\tFunctional\\tHerbal\\tTherapy\\tin\\tCancer,\\tcourse\\tby\\tKerry\\tBone,\\tMaster\\tHerbalist\\tand\\tcancer\\tspecialist\\t\\tScientific\\tresearch:\\tBlack\\tseed\\toil\\timproves\\teffectiveness\\tof\\tPaclitaxel\\tin\\tbreast\\tcancer\\thttps://www.mdpi.com/1420-3049/25/2/426?fbclid=IwAR2mVLZvLwzOjy_KasZIFgKfI_ytaD-uBF7i-_bJjUa7pqri8RPGJjKn1ys\\t\\tThe\\tcombination\\tof\\tthymoquinone\\tand\\tpaclitaxel\\tshows\\tanti-tumor\\tactivity\\tthrough\\tthe\\tinterplay\\twith\\tapoptosis\\tnetwork\\tin\\ttriple-negative\\tbreast\\tcancer\\thttps://www.researchgate.net/publication/283260823_The_combination_of_thymoquinone_and_paclitaxel_shows_anti-tumor_activity_through_the_interplay_with_apoptosis_network_in_triple-negative_breast_cancer\\t\\tModulation\\tby\\thydroxytyrosol\\tof\\toxidative\\tstress\\tand\\tantitumor\\tactivities\\tof\\tpaclitaxel\\tin\\tbreast\\tcancer\\tHydroxytyrosol\\t(olive\\tpolyphenol\\tavailable\\tin\\tsupplement)\\timproves\\teffectiveness\\tand\\treduces\\toxidative\\tstress\\t(damage\\tto\\tnormal\\ttissues):\\thttps://pubmed.ncbi.nlm.nih.gov/29468462/'),\n",
       " Document(metadata={'producer': 'macOS Version 10.15.7 (Build 19H2026) Quartz PDFContext', 'creator': 'Word', 'creationdate': \"D:20230827223908Z00'00'\", 'title': 'Microsoft Word - Herbs that synergize with TaxanesKadcylaEnhertu v7.docx', 'moddate': \"D:20230827223908Z00'00'\", 'source': './Herbs that synergize with TaxanesKadcylaEnhertu v7.pdf', 'total_pages': 7, 'page': 3, 'page_label': '4'}, page_content='Herbs and Natural Substances Synergies with Taxanes  (Taxol, Paclitaxel, Docetaxel, Taxotere), Vinorelbine, Enhertu, and Kadcyla  \\n Disclaimer: This document is for informational purposes, does not constitute medical advice, and should not replace the advice of a medical professional. \\nAnti-breast\\tCancer\\tEnhancement\\tof\\ta\\tPolysaccharide\\tfrom\\tSpore\\tof\\tGanoderma\\tlucidum\\tWith\\tPaclitaxel:\\tSuppression\\ton\\tTumor\\tMetabolism\\tWith\\tGut\\tReshaping\\tMouse\\tmodel\\tshowing\\tthat\\tReishi\\tmushroom\\timproves\\tefficacy\\tof\\tTaxane\\tchemotherapy\\twhile\\treducing\\tdrug\\tresistance\\tand\\tside\\teffects.\\tThe\\tmechanism\\tappears\\tto\\tbe\\tby\\treducing\\tthe\\tdisk\\tbiases\\tthat\\thappens\\tin\\tthe\\tgut\\tduring\\tchemotherapy.\\thttps://www.frontiersin.org/articles/10.3389/fmicb.2018.03099/full\\tPhase\\tI\\tdose\\tescalation\\ttrial\\tof\\tdocetaxel\\tplus\\tcurcumin\\tin\\tpatients\\twith\\tadvanced\\tand\\tmetastatic\\tbreast\\tcancer\\tClinical\\ttrial\\tshowing\\tincreased\\teffectiveness\\twhen\\toral\\tcurcumin\\t6000\\tmg\\tper\\tday\\tsplit\\tinto\\t3\\tdoses\\tis\\tgiven\\twith\\tDocetaxel..\\thttps://www.sciencedirect.com/science/article/pii/S0944711320300507?via%3Dihub&fbclid=IwAR2nd5zAc1L5yW3A4oQXYEiUmif3ObdEuiYbS9ibNkFoKA2T6Ii-v7LljCY\\t\\tEfficacy\\tand\\tsafety\\tof\\tcurcumin\\tin\\tcombination\\twith\\tpaclitaxel\\tin\\tpatients\\twith\\tadvanced,\\tmetastatic\\tbreast\\tcancer:\\tA\\tcomparative,\\trandomized,\\tdouble-blind,\\tplacebo-controlled\\tclinical\\ttrial\\tClinical\\ttrial\\tshowing\\tthat\\tIV\\tcurcumin\\tincreased\\tthe\\ttolerability\\tof\\tpaclitaxel\\ttreatment.\\thttps://www.ncbi.nlm.nih.gov/pmc/articles/PMC3769673/?report=reader\\t\\tThe\\tEffect\\tof\\tEchinacea\\tPurpurea\\ton\\tthe\\tPharmacokinetics\\tof\\tDocetaxel\\tHuman\\tstudy\\tshowing\\tthat\\techinacea\\tsupplementation\\tdoesn’t\\timpact\\tdocetaxel\\tpharmacokinetics\\tand\\thas\\ta\\tmoderate\\timpact\\ton\\treducing\\tdrug\\tside\\teffects.\\thttps://www.ncbi.nlm.nih.gov/pmc/articles/PMC3769673/?report=reader\\t\\tImproving\\toutcome\\tof\\tchemotherapy\\tof\\tmetastatic\\tbreast\\tcancer\\tby\\tdocosahexaenoic\\tacid:\\ta\\tphase\\tII\\ttrial.\\t\\tClinical\\ttrial\\twhere\\tall\\tmetastatic\\tbreast\\tcancer\\tpatients\\treceived\\t1.2\\tg\\tDHA\\tper\\tday\\tthroughout\\tthe\\tcourse\\tof\\tchemo.\\tPatients\\twho\\tachieved\\tthe\\thighest\\tblood\\tlevels\\tof\\tDHA\\thad\\tsignificantly\\tlonger\\ttime\\tto\\tprogression\\tand\\toverall\\tsurvival\\tthan\\tthose\\tat\\tthe\\tlower\\tend.\\t\\thttps://pubmed.ncbi.nlm.nih.gov/19920822/\\t\\tOmega-3\\tfatty\\tacids\\tare\\tprotective\\tagainst\\tpaclitaxel-induced\\tperipheral\\tneuropathy:\\ta\\trandomized\\tdouble-blind\\tplacebo\\tcontrolled\\ttrial\\tClinical\\ttrial\\tshowing\\tomega-3\\tsupplementation\\treduces\\tperipheral\\tneuropathy.\\t(Long-term\\tclinical\\toutcomes\\tweren’t\\tmeasured.)\\thttps://pubmed.ncbi.nlm.nih.gov/22894640/\\t\\tOmega-3\\tsupplements\\tfor\\tpatients\\tin\\tchemotherapy\\tand/or\\tradiotherapy:\\tA\\tsystematic\\treview\\tFor\\thigh\\tquality\\tmethodology\\tstudies\\tonly,\\tthe\\tcombination\\tof\\tomega-3\\tfatty\\tacids\\tsupplements\\twith\\tconventional\\tchemotherapy\\twas\\tbeneficial.\\tNone\\tof\\tthe\\tstudies\\treported\\ta\\tworse\\toutcome\\tfor\\tthe\\tsupplement\\tpatients.\\thttps://pubmed.ncbi.nlm.nih.gov/25907586/\\\\\\t\\tThe\\tAnticancer\\tActivity\\tof\\tSea\\tBuckthorn\\thttps://www.ncbi.nlm.nih.gov/pmc/articles/PMC5861756/'),\n",
       " Document(metadata={'producer': 'macOS Version 10.15.7 (Build 19H2026) Quartz PDFContext', 'creator': 'Word', 'creationdate': \"D:20230827223908Z00'00'\", 'title': 'Microsoft Word - Herbs that synergize with TaxanesKadcylaEnhertu v7.docx', 'moddate': \"D:20230827223908Z00'00'\", 'source': './Herbs that synergize with TaxanesKadcylaEnhertu v7.pdf', 'total_pages': 7, 'page': 4, 'page_label': '5'}, page_content='Herbs and Natural Substances Synergies with Taxanes  (Taxol, Paclitaxel, Docetaxel, Taxotere), Vinorelbine, Enhertu, and Kadcyla  \\n Disclaimer: This document is for informational purposes, does not constitute medical advice, and should not replace the advice of a medical professional. \\nRole\\tof\\tdocosahexaenoic\\tacid\\tin\\tenhancement\\tof\\tdocetaxel\\taction\\tin\\tpatient-derived\\tbreast\\tcancer\\txenografts\\tThis\\twork\\tis\\tthe\\tfirst\\tto\\tconfirm\\tthat\\tDHA\\tsupplementation\\tduring\\tchemotherapy\\ttreatment\\timproves\\tTXT\\taction\\tin\\ttwo\\tPDX\\tmodels\\tof\\tTNBC.\\tThe\\tresults\\tsuggest\\tthat\\tdecreases\\tin\\ttumor\\tsize\\toccurred\\tvia\\tchanges\\tin\\tapoptosis,\\tcell\\tproliferation,\\tand\\tcell\\tcycle\\tpathways.\\t\\thttps://pubmed.ncbi.nlm.nih.gov/31236812/\\t\\tThese\\tresearchers\\tare\\talso\\tcurrently\\tconducting\\ta\\tclinical\\ttrial\\ton\\tusing\\tDHA\\twith\\tneoadjuvant\\tchemotherapy,\\tlooking\\tat\\timprovement\\tand\\toutcomes\\talong\\twith\\tother\\tmeasures.\\thttps://pubmed.ncbi.nlm.nih.gov/31530611/#affiliation-1\\t\\tPhenethyl\\tisothiocyanate\\t(PEITC)\\tand\\tpaclitaxel\\tsynergistically\\tenhanced\\tapoptosis\\tand\\talpha-tubulin\\thyperacetylation\\tin\\tbreast\\tcancer\\tcells\\tThis\\tis\\tan\\tin\\tvitro\\tstudy\\ton\\tER+HER2-\\tand\\tTNBC\\tcell\\tlines\\tbut\\tno\\tfollow-up\\tanimal\\tstudy\\thas\\tbeen\\tdone.\\thttps://www.ncbi.nlm.nih.gov/labs/pmc/articles/PMC3927854/\\t\\tCombination\\tof\\tBaicalein\\tand\\tDocetaxel\\tAdditively\\tInhibits\\tthe\\tGrowth\\tof\\tNon-small\\tCell\\tLung\\tCancer\\tIn\\tVivo\\thttps://www.worldscientific.com/doi/10.1142/S2575900018500131\\t\\tA\\tNovel\\tPaclitaxel\\tConjugate\\twith\\tHigher\\tEfficiency\\tand\\tLower\\tToxicity:\\tA\\tNew\\tDrug\\tCandidate\\tfor\\tCancer\\tTreatment\\thttps://pubmed.ncbi.nlm.nih.gov/31597361/\\tIV\\talpha\\tlipoic\\tacid\\tadded\\tto\\tPaclitaxel\\tin\\ta\\tmouse\\tstudy\\tdecreased\\ttumor\\tvolume\\tand\\tincreased\\tsurvival\\ttimes.\\tNote\\tthat\\tIV\\tnot\\toral\\tform\\twas\\tused.\\t\\tDHA\\t(Dihydro-artemsinen)\\tAffects\\tMicrotubule\\tDynamics\\tThrough\\tReduction\\tof\\tPhospho-TCTP\\tLevels\\tand\\tEnhances\\tthe\\tAntiproliferative\\tEffect\\tof\\tT-DM1\\tin\\tTrastuzumab-Resistant\\tHER2-Positive\\tBreast\\tCancer\\tCell\\tLines\\thttps://www.ncbi.nlm.nih.gov/labs/pmc/articles/PMC7290969/\\tArtemisinin\\tadded\\tto\\tTDM-1\\t(Kadcyla)\\tin\\tboth\\tcell\\tlines\\tand\\tanimal\\tmodels\\tshowed\\timproved\\tresponse\\tover\\tTDM-1\\talone.\\t(Note\\tthat\\tthis\\tshould\\tbe\\tdone\\tunder\\tsupervision\\tof\\tmedical\\tprofessional\\tas\\tartemisinin\\tmay\\tincrease\\tdrug\\tside\\teffects.)\\t\\tEchinacea\\tAngustifolia\\tDC\\tExtract\\tInduces\\tApoptosis\\tand\\tCell\\tCycle\\tArrest\\tand\\tSynergizes\\twith\\tPaclitaxel\\tin\\tthe\\tMDA-MB-231\\tand\\tMCF-7\\tHuman\\tBreast\\tCancer\\tCell\\tLines\\thttps://pubmed.ncbi.nlm.nih.gov/32959676/\\\\\\t\\tA\\tCombination\\tTherapy\\twith\\tBaicalein\\tand\\tTaxol\\tPromotes\\tMitochondria-Mediated\\tCell\\tApoptosis:\\tInvolving\\tin\\tAkt/β-Catenin\\tSignaling\\tPathway\\thttps://www.meta.org/papers/a-combination-therapy-with-baicalein-and-taxol/27414207?fbclid=IwAR1IJrJ7Gr6hOFnyExh9vVcr-QFQlaRxFQVWK5r5o1aH8FA2wXe6CjVFZZ4\\t\\tIvermectin\\tReverses\\tTaxane\\tResistance\\tin\\tProstate\\tCancer\\tCells\\t(both\\tin\\tvitro\\tand\\tin\\tvivo)\\thttps:/www.researchgate.net/figure/Ivermectin-reverses-taxane-resistance-in-prostate-cancer-cells-A-Immunoblotting_fig4_337989200'),\n",
       " Document(metadata={'producer': 'macOS Version 10.15.7 (Build 19H2026) Quartz PDFContext', 'creator': 'Word', 'creationdate': \"D:20230827223908Z00'00'\", 'title': 'Microsoft Word - Herbs that synergize with TaxanesKadcylaEnhertu v7.docx', 'moddate': \"D:20230827223908Z00'00'\", 'source': './Herbs that synergize with TaxanesKadcylaEnhertu v7.pdf', 'total_pages': 7, 'page': 5, 'page_label': '6'}, page_content='Herbs and Natural Substances Synergies with Taxanes  (Taxol, Paclitaxel, Docetaxel, Taxotere), Vinorelbine, Enhertu, and Kadcyla  \\n Disclaimer: This document is for informational purposes, does not constitute medical advice, and should not replace the advice of a medical professional. \\nCytotoxicity\\tof\\tTanshinone\\tIIA\\tCombined\\twith\\tTaxol\\ton\\tDrug-resistant\\tBreast\\tCancer\\tCells\\tMCF-7\\tthrough\\tInhibition\\tof\\tTau\\t(AVOID-CYP3A4\\tINDUCER)\\thttps://onlinelibrary.wiley.com/doi/10.1002/ptr.6014\\t\\tBetulinic\\tacid\\tchemosensitizes\\tbreast\\tcancer\\tby\\ttriggering\\tER\\tstress-mediated\\tapoptosis\\tby\\tdirectly\\ttargeting\\tGRP78\\thttps://www.nature.com/articles/s41419-018-0669-8\\tω-6\\tpolyunsaturated\\tfatty\\tacid\\tγ-linolenic\\tacid\\t(18:3n-6)\\tenhances\\tdocetaxel\\t(Taxotere)\\tcytotoxicity\\tin\\thuman\\tbreast\\tcarcinoma\\tcells:\\tRelationship\\tto\\tlipid\\tperoxidation\\tand\\tHER-2/neu\\texpression\\tGLA\\tis\\tthe\\tomega-6\\tfatty\\tacid\\tbeing\\ttudied\\there.\\tIt\\tis\\tkniown\\tas\\tbeing\\tthe\\tonly\\tanti-inflammatory\\tomega-6.\\thttps://www.spandidos-publications.com/or/11/6/1241/abstract\\t\\tTocotrienols\\tas\\tan\\tAnti-Breast\\tCancer\\tAgent\\thttps://www.mdpi.com/2076-3921/10/9/1383\\t\\t\\t(-)-Epigallocatechin\\tgallate\\tsensitizes\\tbreast\\tcancer\\tcells\\tto\\tpaclitaxel\\tin\\ta\\tmurine\\tmodel\\tof\\tbreast\\tcarcinoma\\thttps://www.ncbi.nlm.nih.gov/pmc/articles/PMC2880428/\\t\\tPhospho-TCTP\\tas\\ta\\ttherapeutic\\ttarget\\tof\\tDihydroartemisinin\\tfor\\taggressive\\tbreast\\tcancer\\tcells\\thttps://pubmed.ncbi.nlm.nih.gov/25779659/\\t \\tP450\\tEnzyme\\tInteractions:\\tSupplements\\tto\\tAvoid\\tor\\tUse\\twith\\tCaution\\tUnder\\tGuidance\\tof\\tPractitioner\\tTaxanes,\\tVinorelbine,\\tKadcyla,\\tand\\tEnhertu\\tare\\tmetabolized\\tby\\tthe\\tP450\\tenzyme\\tCYP3A4,\\tand\\toncologists\\tare\\tconcerned\\tabout\\tpatients\\ttaking\\therbs\\tthat\\tinduce\\tor\\tinhibit\\tthis\\tenzyme.\\tUnfortunately,\\tin\\tvitro\\tliver\\tmicrosome\\tor\\trodent\\tstudies\\tform\\tthe\\tbasis\\tfor\\tmost\\tsuggested\\tinteractions\\ton\\toncology\\twebsites\\twhile\\thuman\\tstudies\\thave\\tproven\\tmany\\tof\\tthese\\tare\\tunfounded.\\t\\t\\tAlso\\tnote\\tthat\\tdrugs\\ttypically\\thave\\tstronger\\tinteractions\\tthan\\therbs,\\texcept\\tfor\\tSt.\\tJohn’s\\tWort.\\tOther\\therbs\\tthat\\tmight\\thave\\tstrong\\tinteractions\\twith\\tTaxanes\\tare\\tcitrus\\tbergamot,\\tartemisinin,\\tblack\\tseed\\toil,\\tbaicalein,\\tand\\tdanshen,\\tso\\tthese\\tshould\\tbe\\tavoided\\ton\\tactive\\tchemo\\tdays\\tunless\\tunder\\tguidance\\tof\\tan\\texperienced\\tintegrative\\tpractitioner.\\t\\tDr.\\tMcKinney\\tand\\tDr.\\tAlschuler\\tsuggest\\tavoiding\\tquercetin,\\tbut\\tsome\\tintegrative\\tpractitioners\\tuse\\tit\\tto\\tincrease\\tthe\\teffects\\tof\\tchemo\\tdrugs.\\t\\t(Quercetin\\tis\\ta\\tPGp\\tinhibitor,\\twhich\\tkeeps\\tchemo\\tfrom\\tleaving\\tthe\\tcancer\\tcells\\tbut\\tshould\\tnot\\taffect\\tnormal\\tcells.)\\t\\tThey\\talso\\tsuggest\\tavoiding\\tberberine\\t(perhaps\\tdue\\tto\\teffects\\ton\\tliver\\tenzymes\\tbut\\tit’s\\ta\\tmild\\tCYP3A4\\tinhibitor\\taccording\\tto\\thuman\\tresearch),\\tN-acetyl\\tcysteine\\t(precursor\\tto\\tglutathione,\\talthough\\tglutathione\\tis\\tnot\\tactually\\ta\\tconcern\\twith\\tTaxanes\\tbecause\\tTaxanes\\tdon’t\\tcreate\\tROS\\tlike\\tplatinum\\tdrugs),\\tBlack\\tcohosh\\t(not\\tactually\\ta\\tCYP3A4\\tinhibitor\\tso\\tnot'),\n",
       " Document(metadata={'producer': 'macOS Version 10.15.7 (Build 19H2026) Quartz PDFContext', 'creator': 'Word', 'creationdate': \"D:20230827223908Z00'00'\", 'title': 'Microsoft Word - Herbs that synergize with TaxanesKadcylaEnhertu v7.docx', 'moddate': \"D:20230827223908Z00'00'\", 'source': './Herbs that synergize with TaxanesKadcylaEnhertu v7.pdf', 'total_pages': 7, 'page': 6, 'page_label': '7'}, page_content='Herbs and Natural Substances Synergies with Taxanes  (Taxol, Paclitaxel, Docetaxel, Taxotere), Vinorelbine, Enhertu, and Kadcyla  \\n Disclaimer: This document is for informational purposes, does not constitute medical advice, and should not replace the advice of a medical professional. \\nsure\\twhy),\\tand\\tSt.\\tJohn’s\\tWort,\\twhich\\tis\\ta\\tstrong\\tCYP3A4\\tinhibitor.\\t\\tConsult\\tyour\\tintegrative\\tcancer\\tpractitioner\\tbefore\\tusing\\tany\\tof\\tthese.\\t\\tThere\\tis\\tconflicting\\tinformation\\tabout\\tresveratrol\\t(Japanese\\tknotweed).\\tDonnie\\tYance\\tand\\tDr.\\tAlschuler\\tsay\\tit\\tsynergizes\\twith\\tTaxanes\\tand\\treduces\\tresistance\\tto\\tchemotherapy,\\twhile\\tNeil\\tMcKinney\\tsuggests\\tavoiding\\tit.\\t\\tResveratrol\\thas\\tbeen\\tshown\\tto\\tinhibit\\tCYP3A4\\tin\\thuman\\tstudies\\tso\\tit\\tcould\\tincrease\\tTaxane\\tside\\teffects\\tif\\tused\\tat\\ta\\thigh\\tdose.\\t\\tHowever,\\tlow\\tdoses\\tof\\tunder\\t500\\tmg\\ta\\tday\\tin\\tthe\\tTrans-resveratrol\\tform\\tare\\trecommended.\\t\\tHere\\tare\\tsome\\texcellent\\tsummaries\\tof\\thuman\\tstudies\\ton\\tCYP3A4\\tdrug-herb\\tinteractions\\tin\\thumans:\\thttps://www.ncbi.nlm.nih.gov/pmc/articles/PMC4463967/\\thttps://www.ncbi.nlm.nih.gov/pmc/articles/PMC4464477/\\thttps://pubmed.ncbi.nlm.nih.gov/35056827/'),\n",
       " Document(metadata={'producer': 'macOS Version 10.15.7 (Build 19H2026) Quartz PDFContext', 'creator': 'Word', 'creationdate': \"D:20230721233629Z00'00'\", 'title': 'Microsoft Word - Herbs that synergize with Carboplatin and Cisplatin V3.docx', 'moddate': \"D:20230721233629Z00'00'\", 'source': './Herbs that synergize with Carboplatin and Cisplatin V3.pdf', 'total_pages': 2, 'page': 0, 'page_label': '1'}, page_content='Herbs that Synergize or Reduce Effectiveness of Carboplatin and Cisplatin  \\nDisclaimer: This document is for informational purposes, does not constitute medical advice, and should not replace the advice of a medical professional. \\t\\t\\nImprove\\teffectiveness\\twith\\tquercetin\\t(net\\tgain\\tis\\tup\\tto\\t30%\\tmore\\tapoptosis),\\tzinc,\\tand\\tcurcumin.\\tSome\\tpractitioners\\trecommend\\tcoenzyme\\tQ-10,\\tgenistein,\\tselenium,\\tmistletoe,\\tcoriolus\\tPSK,\\tshitake\\tlentinan,\\tresveratrol,\\tvitamins\\tA,\\tniacin\\tor\\ta\\tB-complex.\\t\\tMilk\\tthistle,\\tcurcumin,\\tzinc,\\tand\\tselenium\\tcan\\tblunt\\ttumor\\tresistance\\tto\\tcisplatin\\tand\\tcarboplatin,\\twhile\\tincreasing\\tefficacy.\\tMilk\\tthistle\\tis\\talso\\ta\\tgreat\\tliver\\tprotectant.\\tTheanine\\tincreases\\tdrug\\tconcentration\\tin\\ta\\ttumor\\tthrough\\tinhibition\\tof\\tthe\\tglutamate\\ttransporter\\tvia\\tthe\\tGS-X\\tpump.\\tOmega\\t3\\tfish\\toil\\tmay\\tprevent\\tkidney\\tdamage\\tand\\tincrease\\tefficacy,\\tbut\\tthis\\thas\\tbecome\\tcontroversial\\tdue\\tto\\ta\\trat\\tstudy\\tshowing\\treduced\\tCisplatin\\tefficacy.\\tWhether\\tthis\\tapplies\\tto\\thumans,\\tor\\tto\\tother\\tplatinum\\tdrugs\\tis\\tunknown.\\t\\t\\tPlatinum\\tcompounds\\tcan\\tcause\\tsevere\\tnerve\\tdamage,\\thearing\\tloss,\\tsevere\\tkidney\\ttoxicity,\\tnausea,\\tvomiting,\\tand\\tbone\\tmarrow\\tsuppression.\\tReduce\\ttoxicity\\twith\\tastragalus,\\tquercetin,\\tmagnesium,\\tvitamin\\tD3,\\tselenium,\\tand\\tmelatonin.\\tProtect\\tnerves\\twith\\tL-glutamine,\\tVitamin\\tE\\t600+\\tmg\\tmixed\\ttocopherols\\tdaily,\\tplus\\tsublingual\\tor\\tshots\\tof\\tvitamin\\tB-12\\tas\\tmethylcobalamin.\\tVenlafaxine\\t(Effexor)\\tat\\t50\\tmg\\t1\\thour\\tbefore\\tinfusion,\\tor\\t37.5\\tmg\\textended\\trelease\\ttwice\\tdaily,\\tprevents\\tand\\theals\\tneuropathy.\\t\\t\\tChinese\\tformulas:\\tBa\\tZhen\\tTang\\t-\\tEight\\tPearls\\tDecoction\\t-\\treduces\\tgastro-intestinal\\tGI\\tside-effects,\\tas\\tdoes\\tBu\\tZhong\\tYi\\tQi\\tWan\\tformula.\\t\\t\\tCarboplatin\\tis\\tless\\ttoxic\\tto\\tthe\\tkidneys,\\tbut\\tmore\\tmutagenic\\tand\\tdamaging\\tto\\tthe\\tbone\\tmarrow\\tand\\tblood\\tcell\\tcounts\\tthan\\tcisplatin.\\tCarboplatin\\tproduces\\telectrolyte\\t(blood\\tminerals)\\timbalances,\\tnausea\\tand\\tvomiting,\\tabnormal\\tliver\\tfunction,\\tnerve\\tdamage,\\tand\\tmuscle\\tpain.\\tConsider\\textra\\tglutamine\\tand\\tmilk\\tthistle\\twith\\tcarboplatin,\\tand\\tcytokine\\tmodulators\\tsuch\\tas\\tastragalus\\tand\\tReishi\\tmushroom.\\tDCA\\tis\\tgood\\twith\\tcarboplatin.\\t\\t\\tDo\\tnot\\tcasually\\tmix\\tplatinum\\tdrugs\\twith\\tDichloroacetate\\t(DCA),\\tN-acetyl\\tcysteine\\t(NAC),\\tglutathione\\t(GSH),\\talpha\\tlipoic\\tacid\\t(ALA),\\tGinkgo\\tbiloba,\\tsqualene,\\tor\\thigh\\tdose\\tvitamin\\tB6.\\tDo\\tso\\tas\\tdirected\\tby\\ta\\tnaturopathic\\tphysician\\ttrained\\tand\\tskilled\\tin\\tintegrative\\toncology.\\t\\tExcerpt\\tfrom:\\tNaturopathic\\tOncology\\tby\\tDr.\\tNeil\\tMcKinney,\\tND'),\n",
       " Document(metadata={'producer': 'macOS Version 10.15.7 (Build 19H2026) Quartz PDFContext', 'creator': 'Word', 'creationdate': \"D:20230721233629Z00'00'\", 'title': 'Microsoft Word - Herbs that synergize with Carboplatin and Cisplatin V3.docx', 'moddate': \"D:20230721233629Z00'00'\", 'source': './Herbs that synergize with Carboplatin and Cisplatin V3.pdf', 'total_pages': 2, 'page': 1, 'page_label': '2'}, page_content='Herbs that Synergize or Reduce Effectiveness of Carboplatin and Cisplatin  \\nDisclaimer: This document is for informational purposes, does not constitute medical advice, and should not replace the advice of a medical professional. \\t\\t\\nLise\\tAlschuler,\\tNaturopathic\\toncologist\\tsuggests\\tseveral\\therbs\\tand\\tnutrients\\tthat\\tare\\tsynergistic\\tand\\thelp\\tincrease\\tthe\\tanticancer\\teffects:\\tVitamin\\tA\\t,\\tmelatonin,\\tand,\\tquercetin\\t(though\\tquercetin\\tshould\\tbe\\ttaken\\twith\\tcaution\\twith\\tchemotherapy\\tbecause\\tit\\tinhibits\\tthe\\tP-glycoprotein\\tpump\\tthat\\tpushes\\tchemo\\tout\\tof\\tthe\\tcell).\\t\\tTo\\treduce\\ttoxic\\tside\\teffects\\ton\\tnerves\\tand\\tkidneys\\tshe\\trecommends\\tVitamin\\tE,\\tmagnesium,\\tGinkgo\\tbiloba\\t(Dr.\\tMcKinney\\tadvises\\tagainst\\texcept\\tunder\\tsupervision),\\tCoriolis\\tversicolor\\t(Turkey\\ttail)\\tmushroom\\tand\\tsilymarin\\t(milk\\tthistle).\\tShe\\trecommends\\tastragalus\\tand\\tspleen\\tpolypeptides\\tfor\\timmune\\tsupports\\t(low\\tblood\\tcounts)\\tand\\tginger\\tfor\\tnausea.\\tExcerpt\\tfrom:\\tThe\\tDefinitive\\tGuide\\tto\\tCancer,\\tThird\\tEdition.\\tAdditional\\tSupports:\\tBromelain\\thttps://pubmed.ncbi.nlm.nih.gov/27891174/\\tBromelain,\\twhich\\tis\\ta\\tcysteine\\tendopeptidase\\tcommonly\\tfound\\tin\\tpineapple\\tstems,\\thas\\tbeen\\tinvestigated\\tas\\ta\\tpotential\\tanti-cancer\\tagent\\tfor\\tthe\\ttreatment\\tof\\tbreast\\tcancer.\\tBromelain\\tin\\tcombination\\twith\\tcisplatin\\tsynergistically\\tenhanced\\tthe\\tinduction\\tof\\tapoptosis\\tin\\tMDA-MB-231\\tcells.\\t\\tMetformin\\t\\thttps://www.ncbi.nlm.nih.gov/pmc/articles/PMC5650413/?fbclid=IwAR3OdrZJYP9uVRLMSy851BE0pUDymBY-y1CLweW_O53uHfkptdFviGvY-WQ_aem_AeAcJS5tURtAjaP37abj9gKBYyDMTTpZ8URV48LhYsSI_3pkY2Jjmx3VJM9YBPa6LtI&mibextid=Zxz2cZ\\tMetformin\\tpartially\\treverses\\tthe\\tcarboplatin-resistance\\tin\\tNSCLC\\tby\\tinhibiting\\tglucose\\tmetabolism'),\n",
       " Document(metadata={'producer': 'Mac OS X 10.11.6 Quartz PDFContext', 'creator': 'Word', 'creationdate': \"D:20200122232504Z00'00'\", 'title': 'Microsoft Word - Pre and Post Op protocol.docx', 'moddate': \"D:20200122232504Z00'00'\", 'keywords': '', 'aapl:keywords': '[]', 'source': './McKinney Surgery Pre and Post Op protocol.pdf', 'total_pages': 2, 'page': 0, 'page_label': '1'}, page_content='PRE-OP PREPARATION  (Excerpted, added to, and edited from Neil McKinney’s Naturopathic Oncology textbook) NOTE: this document is not to be duplicated or shared without permission  Flaxseed 25-30 grams daily for one month pre-op reduces tumour aggressiveness and Ki67 activator protein. Grind fresh at least every 2 weeks and store flaxseed meal in the fridge. Green tea extract will also reduce Ki67.  Reduce metastasis risk with PectaSol-C brand standardized modified citrus pectin MCP 1.5 scoops or 9 capsules twice daily. The lime version is easiest to mix in water. The plain version can be mixed into a strong herbal tea like Good Earth Sweet and Spicy. Either way, add to liquid and let sit for 10 minutes before whisking. When near the bottom of the glass, whisk again to get the rest of the MCP from the bottom.  Modified or fractionated citrus pectin, and larch arabinoglycans, work like putting flour on Scotch tape - mets can’t stick to other cells, and if they cannot attach to the vasculature walls they cannot invade and if they cannot anchor the mitotic spindle for cell division, they cannot grow. Start the day before your surgery or biopsy procedure, and continue for up to 6 months, then review.  MCP is good long-term for reducing risk of metastases. EGCG (green tea extract) also helps reduce risk of metastases from surgery.  Take a 500-700 mg capsule 3 times daily for about 2 weeks if possible, but stop at least 3 days pre-op. Both MCP and EGCG help to regulate the natural tissue repair systems, which unfortunately can stimulate growth in occult micro-metastases or any residual tumour. These cell growth factors include vascular endothelial growth factor VEGF and matrix metalloproteinase MMP-9.  Avoid for a week all herbs and supplements which interact with sedatives and anaesthetics: St. John’s Wort Hypericum perforatum; valerian root Valeriana officinalis; kava kava Piper methysticum, ginseng Panax ginseng and Panax cinquefolium, skullcap, passion flower, hops, melatonin, inositol, GABA and 5-hydroxy-typtophan 5-HTP. Avoid ephedra herb as it increases sympathetic nerve tone. Avoid citrus, licorice root and lindera as they increase blood pressure. Avoid peony root, milletia, Gingko biloba - gingko leaf, and high-dose niacin or niacinamide as they dilate peripheral blood vessels.  Avoid for a minimum of 3 days pre-op natural medicines which can cause bleeding or clotting issues: garlic Allium sativa; ginseng root Panax ginseng or Panax cinquefolium; bromelain; vitamin K, salvia, rehmannia, ligusticum, ginger, curcumin, atractylodes, carthamus, reishi, cordyceps, Co-enzyme Q-10, resveratrol, green tea EGCG extract. Vitamin E can be a risk to about 10% of the population, if taken in high doses ie over 800 IU daily. Vitamin C intake should not exceed 3 grams or ½ tsp daily.   Homeopathic surgery mix - 6C potency homeopathics Hypericum, Staphysagria and Arnica – this formula was created by Dr. Andre Saine, ND, naturopathic homeopath. Being a classical homeopath, he dispensed them separately, but Dr. McKinney suggests mixing them in one bottle. Hypericum treats nerve injury and pain, Arnica helps relieve trauma, edema, inflammation, and Staphysagria deals with the injury at an emotional and mental level. Start this the day before your procedure.  Wound healing support: vitamin C - 2,000 mg, zinc citrate - 60 mg; vitamin A 10,000 + IU daily; high protein - which might include a whey protein or pea protein powder - 1 ounce (30 grams) twice daily. It is mandatory in cases with recent poor nutrition due to poor appetite, or mechanical issues such as oral or gastro-intestinal tumours. Start these supplements 2 weeks pre-op if you have been nutritionally compromised.  If the patient has a low immune status, post-shower skin application of chlorhexidine for a few days lowers risk of surgical infection. Reduction of the skin biofilm reduces risk of skin Pseudomonas growing in a wound.'),\n",
       " Document(metadata={'producer': 'Mac OS X 10.11.6 Quartz PDFContext', 'creator': 'Word', 'creationdate': \"D:20200122232504Z00'00'\", 'title': 'Microsoft Word - Pre and Post Op protocol.docx', 'moddate': \"D:20200122232504Z00'00'\", 'keywords': '', 'aapl:keywords': '[]', 'source': './McKinney Surgery Pre and Post Op protocol.pdf', 'total_pages': 2, 'page': 1, 'page_label': '2'}, page_content='Mind-Body. Visualize success and feel the benefits you are going to receive. If you can worry about side effects and problems, you can visualize something better happening. Let it be like sunshine chasing away all your shadows. A positive attitude appears to make a real difference in outcome - less pain, less complications, faster healing, etc. Use the pharmacy in your head to create healing conditions. Guided meditations are available online and can be found easily with Google search. One popular meditation is by Belleruth Napparstek.  POST-OP PROTOCOL  Take PectaSol-C modified citrus pectin - 9 capsules or 1.5 scoops twice daily 30 minutes before meals  to control inflammation and cancerized stem cell formation. Green tea catechins (EGCG) also reduce adhesion and scars. Support green tea extract with γVitamin E as mixed tocopherols 400 IU daily to protect kidneys and liver. (Note: do not take vitamin E with chemotherapy or natural oxidative therapies like vitamin C IV and ozone.) Surgery is very immunosuppressive. This is the time for homeopathic, nutritional and herbal support for the immune system - Engystol, Thymuline, Graphites, Thuja, vitamin A, vitamin C, zinc citrate, cat’s claw, Reishi mushroom (make sure mushrooms are log grown not grown on grain media). A great supplement if you can access it is Natura Health Products Immucare. Support wound healing with zinc citrate - 30 mg twice daily with food; vitamin A - 3,000 I.U. daily; and vitamin C - 1000 mg. 3 times daily, or get these nutrients by sufficient intake of fresh and raw fruits and vegetables. Deep wounds such as from punch biopsies can be filled with a sugar paste, which sterilizes while it promotes granulation tissue. Vulneraries /wound healers: calendula - marigold flower, chickweed, comfrey leaf.  Ferdinand Sauerbrach, a thoracic surgeon, has demonstrated improved surgical wound healing and increased resistance to infection with a salt-restricted diet. Again, continue this until all wounds are completely healed.  Reduce pain, edema and blood clot risk with bromelain - 100 mg. 2 to 3 times daily, away from protein foods, plus curcumin (C3 formula) and Quercetin 2 -3 times daily. Ramp up physical activity as soon as possible. For problems with anaesthesia give Phosphorus 30C.  Prevent adhesions and excessive scarring with serratiopeptidase between meals, catechins 500 mg. 3 times daily, gotu kola - Centella asiatica - yielding 50 to 100 mg of triterpenic acids. Once the incision has closed, use topical Rosa mosqueta (Rosehip) cream to reduce scars and keloids. Aloe vera leaf gel increases wound strength, flexibility on healing, decreases scars and reduces risk of metastasis. Consider also silicone gel, emu oil and injection therapy for scars. 50   Probiotics are good bowel bacteria, essential to good health, and often diminished by stress and antibiotics. If you have a bout of diarrhea after surgery, take a capsule of enteric coated mixed bowel bacteria 2 to 3 times daily, away from food, for up to 2 months. Also include a capsule of Saccharomyces Bouillardi.  Bismothiols and silver help restore gut biofilms, which supports immune competence. Probiotics synergize.  Prebiotics help grow good bacteria in the gut. And one scoop of prebiotic fiber such as modified guar gum or Acacia root to smoothies daily. N-acetyl-cysteine can help clear anaesthesia drugs to restore normal brain function.')]"
      ]
     },
     "execution_count": 4,
     "metadata": {},
     "output_type": "execute_result"
    }
   ],
   "source": [
    "raw_documents"
   ]
  },
  {
   "cell_type": "code",
   "execution_count": 7,
   "id": "ca7273bf-ebc7-45e6-9721-780e966af4cc",
   "metadata": {},
   "outputs": [],
   "source": [
    "text_splitter = RecursiveCharacterTextSplitter(chunk_size=300, chunk_overlap=20)\n",
    "documents = text_splitter.split_documents(raw_documents)"
   ]
  },
  {
   "cell_type": "code",
   "execution_count": 8,
   "id": "aa1193c9-b040-4a20-b42c-60211b48fdf3",
   "metadata": {},
   "outputs": [
    {
     "data": {
      "text/plain": [
       "108"
      ]
     },
     "execution_count": 8,
     "metadata": {},
     "output_type": "execute_result"
    }
   ],
   "source": [
    "len(documents)"
   ]
  },
  {
   "cell_type": "code",
   "execution_count": 9,
   "id": "880cf368-701a-4b8d-83ce-db5b9b68766b",
   "metadata": {},
   "outputs": [
    {
     "name": "stdout",
     "output_type": "stream",
     "text": [
      "page_content='Herbs and Natural Substances Synergies with Taxanes  (Taxol, Paclitaxel, Docetaxel, Taxotere), Vinorelbine, Enhertu, and Kadcyla  \n",
      " Disclaimer: This document is for informational purposes, does not constitute medical advice, and should not replace the advice of a medical professional.' metadata={'producer': 'macOS Version 10.15.7 (Build 19H2026) Quartz PDFContext', 'creator': 'Word', 'creationdate': \"D:20230827223908Z00'00'\", 'title': 'Microsoft Word - Herbs that synergize with TaxanesKadcylaEnhertu v7.docx', 'moddate': \"D:20230827223908Z00'00'\", 'source': './Herbs that synergize with TaxanesKadcylaEnhertu v7.pdf', 'total_pages': 7, 'page': 0, 'page_label': '1'}\n",
      "page_content='Synergistic\tSubstances\twith\tChemotherapy\tSafe\tto\tuse\tthe\tfollowing\tduring\tchemotherapy\tcycle\tto\tincrease\teffectiveness,\tsupport\timmune\tsystem,\tand\treduce\tside\teffects:\tØ Curcumin\t(Start\tat\ta\tlow\tdose\tand\twork\tup.\tNo\teffect\ton\tCYP3A4\tin\thuman\tstudies)\tØ' metadata={'producer': 'macOS Version 10.15.7 (Build 19H2026) Quartz PDFContext', 'creator': 'Word', 'creationdate': \"D:20230827223908Z00'00'\", 'title': 'Microsoft Word - Herbs that synergize with TaxanesKadcylaEnhertu v7.docx', 'moddate': \"D:20230827223908Z00'00'\", 'source': './Herbs that synergize with TaxanesKadcylaEnhertu v7.pdf', 'total_pages': 7, 'page': 0, 'page_label': '1'}\n"
     ]
    }
   ],
   "source": [
    "print(documents[0])\n",
    "print(documents[1])"
   ]
  },
  {
   "cell_type": "code",
   "execution_count": 10,
   "id": "1340c770-b653-4c36-8b37-a84d2ab1f5a6",
   "metadata": {},
   "outputs": [],
   "source": [
    "from langchain_ollama import OllamaEmbeddings"
   ]
  },
  {
   "cell_type": "code",
   "execution_count": 11,
   "id": "a5b77afc-6446-4cb7-8835-c9eb7584fe2e",
   "metadata": {},
   "outputs": [],
   "source": [
    "oembed = OllamaEmbeddings(base_url=\"http://localhost:11434\", model=\"nomic-embed-text\")"
   ]
  },
  {
   "cell_type": "code",
   "execution_count": 12,
   "id": "1290828b-afc9-4139-9458-bde193d6b290",
   "metadata": {},
   "outputs": [],
   "source": [
    "db = Chroma.from_documents(documents, embedding=oembed)"
   ]
  },
  {
   "cell_type": "code",
   "execution_count": 13,
   "id": "b1cda347-37b2-492d-9b04-ac2a3141745c",
   "metadata": {},
   "outputs": [],
   "source": [
    "query = \"Summarize the article about Carboplatin usage in cancer treatment.\"\n",
    "docs = db.similarity_search(query)"
   ]
  },
  {
   "cell_type": "code",
   "execution_count": 14,
   "id": "5399981f-6156-4869-a5a7-4bd17cf2d0bc",
   "metadata": {},
   "outputs": [
    {
     "data": {
      "text/plain": [
       "4"
      ]
     },
     "execution_count": 14,
     "metadata": {},
     "output_type": "execute_result"
    }
   ],
   "source": [
    "len(docs)"
   ]
  },
  {
   "cell_type": "code",
   "execution_count": 15,
   "id": "d03a0ee6-e869-4d4d-8354-4bfc3fd9c839",
   "metadata": {},
   "outputs": [
    {
     "name": "stdout",
     "output_type": "stream",
     "text": [
      "inc,\tand\tselenium\tcan\tblunt\ttumor\tresistance\tto\tcisplatin\tand\tcarboplatin,\twhile\tincreasing\tefficacy.\tMilk\tthistle\tis\talso\ta\tgreat\tliver\tprotectant.\tTheanine\tincreases\tdrug\tconcentration\tin\ta\ttumor\tthrough\tinhibition\tof\tthe\tglutamate\ttransporter\tvia\tthe\tGS-X\tpump.\tOmega\t3\tfish\toil\tmay\tprevent\tkidney\n"
     ]
    }
   ],
   "source": [
    "print(docs[3].page_content)"
   ]
  },
  {
   "cell_type": "code",
   "execution_count": 16,
   "id": "455f2a53-9f82-4b07-b0e4-45860f600b95",
   "metadata": {},
   "outputs": [],
   "source": [
    "from langchain_core.prompts import ChatPromptTemplate\n",
    "from langchain_core.output_parsers import StrOutputParser\n",
    "from langchain_core.runnables import RunnablePassthrough"
   ]
  },
  {
   "cell_type": "code",
   "execution_count": 17,
   "id": "bd5e1a3c-a384-4310-8d90-9a97fc779919",
   "metadata": {},
   "outputs": [],
   "source": [
    "template = \"\"\"Answer the question based only on the following context:\n",
    "\n",
    "{context}\n",
    "\n",
    "Question: {question}\n",
    "\"\"\"\n",
    "prompt = ChatPromptTemplate.from_template(template)"
   ]
  },
  {
   "cell_type": "code",
   "execution_count": 18,
   "id": "8bcdecc5-2ab7-4a74-b612-2e967022922d",
   "metadata": {},
   "outputs": [],
   "source": [
    "model = ChatOllama(\n",
    "    model=\"llama3.1:latest\",\n",
    "    temperature=0\n",
    ")"
   ]
  },
  {
   "cell_type": "code",
   "execution_count": 19,
   "id": "65b70ce4-fe8a-41ac-90f7-a996ac1a428f",
   "metadata": {},
   "outputs": [],
   "source": [
    "retriever = db.as_retriever()"
   ]
  },
  {
   "cell_type": "code",
   "execution_count": 20,
   "id": "5d15c687-089d-4fd1-826c-c107a7f8d6f2",
   "metadata": {},
   "outputs": [],
   "source": [
    "def format_docs(docs):\n",
    "    return \"\\n\\n\".join([d.page_content for d in docs])"
   ]
  },
  {
   "cell_type": "code",
   "execution_count": 21,
   "id": "e930f72c-20e5-417e-8dfb-1147de72a1af",
   "metadata": {},
   "outputs": [],
   "source": [
    "chain = (\n",
    "    {\"context\": retriever | format_docs, \"question\": RunnablePassthrough()}\n",
    "    | prompt\n",
    "    | model\n",
    "    | StrOutputParser()\n",
    ")"
   ]
  },
  {
   "cell_type": "code",
   "execution_count": 22,
   "id": "be262469-5652-49a3-a784-4c12841ab017",
   "metadata": {},
   "outputs": [
    {
     "data": {
      "text/plain": [
       "'Here is a summary of the article about Carboplatin usage in cancer treatment:\\n\\nCarboplatin is a chemotherapy medication used to treat various types of cancer. While it is less toxic to the kidneys compared to Cisplatin, it has more side effects such as:\\n\\n* Electrolyte imbalances\\n* Nausea and vomiting\\n* Abnormal liver function\\n* Nerve damage\\n* Muscle pain\\n\\nTo mitigate these side effects, supplements like glutamine and selenium can be used. Additionally, certain herbs may enhance the effectiveness of Carboplatin or reduce tumor resistance to it, including:\\n\\n* Milk thistle (liver protectant)\\n* Theanine (increases drug concentration in tumors)\\n* Omega 3 fish oil (may prevent kidney damage)\\n\\nIt is essential to note that this article does not constitute medical advice and should not replace the guidance of a healthcare professional.'"
      ]
     },
     "execution_count": 22,
     "metadata": {},
     "output_type": "execute_result"
    }
   ],
   "source": [
    "chain.invoke(\"Summarize the article about Carboplatin usage in cancer treatment.\")"
   ]
  },
  {
   "cell_type": "code",
   "execution_count": 23,
   "id": "5e189434-ae98-4058-901f-be815bc7ae36",
   "metadata": {},
   "outputs": [
    {
     "data": {
      "text/plain": [
       "\"There is no question provided in the context you gave me. The text appears to be a collection of references and summaries related to cancer treatment and herbal interactions, but there is no actual question being asked. If you'd like to provide a specific question based on this context, I'll do my best to help!\""
      ]
     },
     "execution_count": 23,
     "metadata": {},
     "output_type": "execute_result"
    }
   ],
   "source": [
    "chain.invoke(\"https://pmc.ncbi.nlm.nih.gov/articles/PMC10046228/\")"
   ]
  }
 ],
 "metadata": {
  "kernelspec": {
   "display_name": "Python 3 (ipykernel)",
   "language": "python",
   "name": "python3"
  },
  "language_info": {
   "codemirror_mode": {
    "name": "ipython",
    "version": 3
   },
   "file_extension": ".py",
   "mimetype": "text/x-python",
   "name": "python",
   "nbconvert_exporter": "python",
   "pygments_lexer": "ipython3",
   "version": "3.12.9"
  }
 },
 "nbformat": 4,
 "nbformat_minor": 5
}
