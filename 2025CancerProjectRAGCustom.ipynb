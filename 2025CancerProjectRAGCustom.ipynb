{
 "cells": [
  {
   "cell_type": "code",
   "execution_count": 1,
   "id": "60852973-96f3-4420-8369-907679cd245a",
   "metadata": {},
   "outputs": [],
   "source": [
    "from langchain_community.document_loaders import TextLoader\n",
    "from langchain_text_splitters import RecursiveCharacterTextSplitter\n",
    "from langchain.embeddings import OllamaEmbeddings\n",
    "from langchain_chroma import Chroma\n",
    "from langchain_ollama import ChatOllama"
   ]
  },
  {
   "cell_type": "code",
   "execution_count": 1,
   "id": "e39556d6-715d-4a2f-88aa-a5d945ea575a",
   "metadata": {},
   "outputs": [
    {
     "ename": "RuntimeError",
     "evalue": "Error loading ./Herbs that synergize with TaxanesKadcylaEnhertu v7.pdf",
     "output_type": "error",
     "traceback": [
      "\u001b[1;31m---------------------------------------------------------------------------\u001b[0m",
      "\u001b[1;31mUnicodeDecodeError\u001b[0m                        Traceback (most recent call last)",
      "File \u001b[1;32m~\\AppData\\Local\\Packages\\PythonSoftwareFoundation.Python.3.12_qbz5n2kfra8p0\\LocalCache\\local-packages\\Python312\\site-packages\\langchain_community\\document_loaders\\text.py:43\u001b[0m, in \u001b[0;36mTextLoader.lazy_load\u001b[1;34m(self)\u001b[0m\n\u001b[0;32m     42\u001b[0m     \u001b[38;5;28;01mwith\u001b[39;00m \u001b[38;5;28mopen\u001b[39m(\u001b[38;5;28mself\u001b[39m\u001b[38;5;241m.\u001b[39mfile_path, encoding\u001b[38;5;241m=\u001b[39m\u001b[38;5;28mself\u001b[39m\u001b[38;5;241m.\u001b[39mencoding) \u001b[38;5;28;01mas\u001b[39;00m f:\n\u001b[1;32m---> 43\u001b[0m         text \u001b[38;5;241m=\u001b[39m \u001b[43mf\u001b[49m\u001b[38;5;241;43m.\u001b[39;49m\u001b[43mread\u001b[49m\u001b[43m(\u001b[49m\u001b[43m)\u001b[49m\n\u001b[0;32m     44\u001b[0m \u001b[38;5;28;01mexcept\u001b[39;00m \u001b[38;5;167;01mUnicodeDecodeError\u001b[39;00m \u001b[38;5;28;01mas\u001b[39;00m e:\n",
      "File \u001b[1;32mC:\\Program Files\\WindowsApps\\PythonSoftwareFoundation.Python.3.12_3.12.2544.0_x64__qbz5n2kfra8p0\\Lib\\encodings\\cp1252.py:23\u001b[0m, in \u001b[0;36mIncrementalDecoder.decode\u001b[1;34m(self, input, final)\u001b[0m\n\u001b[0;32m     22\u001b[0m \u001b[38;5;28;01mdef\u001b[39;00m\u001b[38;5;250m \u001b[39m\u001b[38;5;21mdecode\u001b[39m(\u001b[38;5;28mself\u001b[39m, \u001b[38;5;28minput\u001b[39m, final\u001b[38;5;241m=\u001b[39m\u001b[38;5;28;01mFalse\u001b[39;00m):\n\u001b[1;32m---> 23\u001b[0m     \u001b[38;5;28;01mreturn\u001b[39;00m \u001b[43mcodecs\u001b[49m\u001b[38;5;241;43m.\u001b[39;49m\u001b[43mcharmap_decode\u001b[49m\u001b[43m(\u001b[49m\u001b[38;5;28;43minput\u001b[39;49m\u001b[43m,\u001b[49m\u001b[38;5;28;43mself\u001b[39;49m\u001b[38;5;241;43m.\u001b[39;49m\u001b[43merrors\u001b[49m\u001b[43m,\u001b[49m\u001b[43mdecoding_table\u001b[49m\u001b[43m)\u001b[49m[\u001b[38;5;241m0\u001b[39m]\n",
      "\u001b[1;31mUnicodeDecodeError\u001b[0m: 'charmap' codec can't decode byte 0x8f in position 158: character maps to <undefined>",
      "\nThe above exception was the direct cause of the following exception:\n",
      "\u001b[1;31mRuntimeError\u001b[0m                              Traceback (most recent call last)",
      "Cell \u001b[1;32mIn[1], line 4\u001b[0m\n\u001b[0;32m      1\u001b[0m \u001b[38;5;28;01mfrom\u001b[39;00m\u001b[38;5;250m \u001b[39m\u001b[38;5;21;01mlangchain\u001b[39;00m\u001b[38;5;21;01m.\u001b[39;00m\u001b[38;5;21;01mdocument_loaders\u001b[39;00m\u001b[38;5;250m \u001b[39m\u001b[38;5;28;01mimport\u001b[39;00m TextLoader\n\u001b[0;32m      3\u001b[0m \u001b[38;5;66;03m# Load PDF files\u001b[39;00m\n\u001b[1;32m----> 4\u001b[0m raw_documents_1 \u001b[38;5;241m=\u001b[39m \u001b[43mTextLoader\u001b[49m\u001b[43m(\u001b[49m\u001b[38;5;124;43m\"\u001b[39;49m\u001b[38;5;124;43m./Herbs that synergize with TaxanesKadcylaEnhertu v7.pdf\u001b[39;49m\u001b[38;5;124;43m\"\u001b[39;49m\u001b[43m)\u001b[49m\u001b[38;5;241;43m.\u001b[39;49m\u001b[43mload\u001b[49m\u001b[43m(\u001b[49m\u001b[43m)\u001b[49m\n\u001b[0;32m      5\u001b[0m raw_documents_2 \u001b[38;5;241m=\u001b[39m TextLoader(\u001b[38;5;124m\"\u001b[39m\u001b[38;5;124m./Herbs that synergize with Carboplatin and Cisplatin V3.pdf\u001b[39m\u001b[38;5;124m\"\u001b[39m)\u001b[38;5;241m.\u001b[39mload()\n\u001b[0;32m      6\u001b[0m raw_documents_3 \u001b[38;5;241m=\u001b[39m TextLoader(\u001b[38;5;124m\"\u001b[39m\u001b[38;5;124m./McKinney Surgery Pre and Post Op protocol.pdf\u001b[39m\u001b[38;5;124m\"\u001b[39m)\u001b[38;5;241m.\u001b[39mload()\n",
      "File \u001b[1;32m~\\AppData\\Local\\Packages\\PythonSoftwareFoundation.Python.3.12_qbz5n2kfra8p0\\LocalCache\\local-packages\\Python312\\site-packages\\langchain_core\\document_loaders\\base.py:31\u001b[0m, in \u001b[0;36mBaseLoader.load\u001b[1;34m(self)\u001b[0m\n\u001b[0;32m     29\u001b[0m \u001b[38;5;28;01mdef\u001b[39;00m\u001b[38;5;250m \u001b[39m\u001b[38;5;21mload\u001b[39m(\u001b[38;5;28mself\u001b[39m) \u001b[38;5;241m-\u001b[39m\u001b[38;5;241m>\u001b[39m \u001b[38;5;28mlist\u001b[39m[Document]:\n\u001b[0;32m     30\u001b[0m \u001b[38;5;250m    \u001b[39m\u001b[38;5;124;03m\"\"\"Load data into Document objects.\"\"\"\u001b[39;00m\n\u001b[1;32m---> 31\u001b[0m     \u001b[38;5;28;01mreturn\u001b[39;00m \u001b[38;5;28;43mlist\u001b[39;49m\u001b[43m(\u001b[49m\u001b[38;5;28;43mself\u001b[39;49m\u001b[38;5;241;43m.\u001b[39;49m\u001b[43mlazy_load\u001b[49m\u001b[43m(\u001b[49m\u001b[43m)\u001b[49m\u001b[43m)\u001b[49m\n",
      "File \u001b[1;32m~\\AppData\\Local\\Packages\\PythonSoftwareFoundation.Python.3.12_qbz5n2kfra8p0\\LocalCache\\local-packages\\Python312\\site-packages\\langchain_community\\document_loaders\\text.py:56\u001b[0m, in \u001b[0;36mTextLoader.lazy_load\u001b[1;34m(self)\u001b[0m\n\u001b[0;32m     54\u001b[0m                 \u001b[38;5;28;01mcontinue\u001b[39;00m\n\u001b[0;32m     55\u001b[0m     \u001b[38;5;28;01melse\u001b[39;00m:\n\u001b[1;32m---> 56\u001b[0m         \u001b[38;5;28;01mraise\u001b[39;00m \u001b[38;5;167;01mRuntimeError\u001b[39;00m(\u001b[38;5;124mf\u001b[39m\u001b[38;5;124m\"\u001b[39m\u001b[38;5;124mError loading \u001b[39m\u001b[38;5;132;01m{\u001b[39;00m\u001b[38;5;28mself\u001b[39m\u001b[38;5;241m.\u001b[39mfile_path\u001b[38;5;132;01m}\u001b[39;00m\u001b[38;5;124m\"\u001b[39m) \u001b[38;5;28;01mfrom\u001b[39;00m\u001b[38;5;250m \u001b[39m\u001b[38;5;21;01me\u001b[39;00m\n\u001b[0;32m     57\u001b[0m \u001b[38;5;28;01mexcept\u001b[39;00m \u001b[38;5;167;01mException\u001b[39;00m \u001b[38;5;28;01mas\u001b[39;00m e:\n\u001b[0;32m     58\u001b[0m     \u001b[38;5;28;01mraise\u001b[39;00m \u001b[38;5;167;01mRuntimeError\u001b[39;00m(\u001b[38;5;124mf\u001b[39m\u001b[38;5;124m\"\u001b[39m\u001b[38;5;124mError loading \u001b[39m\u001b[38;5;132;01m{\u001b[39;00m\u001b[38;5;28mself\u001b[39m\u001b[38;5;241m.\u001b[39mfile_path\u001b[38;5;132;01m}\u001b[39;00m\u001b[38;5;124m\"\u001b[39m) \u001b[38;5;28;01mfrom\u001b[39;00m\u001b[38;5;250m \u001b[39m\u001b[38;5;21;01me\u001b[39;00m\n",
      "\u001b[1;31mRuntimeError\u001b[0m: Error loading ./Herbs that synergize with TaxanesKadcylaEnhertu v7.pdf"
     ]
    }
   ],
   "source": [
    "from langchain.document_loaders import TextLoader\n",
    "\n",
    "# Load PDF files\n",
    "raw_documents_1 = TextLoader(\"./Herbs that synergize with TaxanesKadcylaEnhertu v7.pdf\").load()\n",
    "raw_documents_2 = TextLoader(\"./Herbs that synergize with Carboplatin and Cisplatin V3.pdf\").load()\n",
    "raw_documents_3 = TextLoader(\"./McKinney Surgery Pre and Post Op protocol.pdf\").load()\n",
    "\n",
    "# Combine all documents into one list\n",
    "all_raw_documents = raw_documents_1 + raw_documents_2 + raw_documents_3\n"
   ]
  },
  {
   "cell_type": "code",
   "execution_count": 3,
   "id": "36f19a26-e6d0-4bcb-a437-b86c2a8ea0c4",
   "metadata": {},
   "outputs": [
    {
     "name": "stderr",
     "output_type": "stream",
     "text": [
      "Ignoring wrong pointing object 8 0 (offset 0)\n",
      "Ignoring wrong pointing object 12 0 (offset 0)\n",
      "Ignoring wrong pointing object 14 0 (offset 0)\n",
      "Ignoring wrong pointing object 16 0 (offset 0)\n",
      "Ignoring wrong pointing object 18 0 (offset 0)\n",
      "Ignoring wrong pointing object 21 0 (offset 0)\n",
      "Ignoring wrong pointing object 31 0 (offset 0)\n",
      "Ignoring wrong pointing object 37 0 (offset 0)\n",
      "Ignoring wrong pointing object 39 0 (offset 0)\n",
      "Ignoring wrong pointing object 41 0 (offset 0)\n",
      "Ignoring wrong pointing object 43 0 (offset 0)\n",
      "Ignoring wrong pointing object 45 0 (offset 0)\n",
      "Ignoring wrong pointing object 59 0 (offset 0)\n",
      "Ignoring wrong pointing object 61 0 (offset 0)\n",
      "Ignoring wrong pointing object 8 0 (offset 0)\n",
      "Ignoring wrong pointing object 12 0 (offset 0)\n",
      "Ignoring wrong pointing object 14 0 (offset 0)\n",
      "Ignoring wrong pointing object 16 0 (offset 0)\n",
      "Ignoring wrong pointing object 18 0 (offset 0)\n",
      "Ignoring wrong pointing object 20 0 (offset 0)\n",
      "Ignoring wrong pointing object 19 0 (offset 0)\n"
     ]
    }
   ],
   "source": [
    "from langchain.document_loaders import PyPDFLoader\n",
    "\n",
    "# Load PDF files\n",
    "loader_1 = PyPDFLoader(\"./Herbs that synergize with TaxanesKadcylaEnhertu v7.pdf\")\n",
    "loader_2 = PyPDFLoader(\"./Herbs that synergize with Carboplatin and Cisplatin V3.pdf\")\n",
    "loader_3 = PyPDFLoader(\"./McKinney Surgery Pre and Post Op protocol.pdf\")\n",
    "\n",
    "# Load the documents\n",
    "raw_documents_1 = loader_1.load()\n",
    "raw_documents_2 = loader_2.load()\n",
    "raw_documents_3 = loader_3.load()\n",
    "\n",
    "# Combine all documents into one list\n",
    "all_raw_documents = raw_documents_1 + raw_documents_2 + raw_documents_3\n"
   ]
  },
  {
   "cell_type": "code",
   "execution_count": 4,
   "id": "d7dcea62-f8aa-4b46-91bd-91eac7f39607",
   "metadata": {},
   "outputs": [
    {
     "name": "stdout",
     "output_type": "stream",
     "text": [
      "108\n",
      "page_content='Herbs and Natural Substances Synergies with Taxanes  (Taxol, Paclitaxel, Docetaxel, Taxotere), Vinorelbine, Enhertu, and Kadcyla  \n",
      " Disclaimer: This document is for informational purposes, does not constitute medical advice, and should not replace the advice of a medical professional.' metadata={'producer': 'macOS Version 10.15.7 (Build 19H2026) Quartz PDFContext', 'creator': 'Word', 'creationdate': \"D:20230827223908Z00'00'\", 'title': 'Microsoft Word - Herbs that synergize with TaxanesKadcylaEnhertu v7.docx', 'moddate': \"D:20230827223908Z00'00'\", 'source': './Herbs that synergize with TaxanesKadcylaEnhertu v7.pdf', 'total_pages': 7, 'page': 0, 'page_label': '1'}\n"
     ]
    }
   ],
   "source": [
    "from langchain.text_splitter import RecursiveCharacterTextSplitter\n",
    "\n",
    "# Define chunking parameters\n",
    "text_splitter = RecursiveCharacterTextSplitter(chunk_size=300, chunk_overlap=20)\n",
    "documents = text_splitter.split_documents(all_raw_documents)\n",
    "\n",
    "print(len(documents))  # Check the number of chunks\n",
    "print(documents[0])  # Preview the first document chunk\n"
   ]
  },
  {
   "cell_type": "code",
   "execution_count": 6,
   "id": "12bc2cf1-2157-4ab6-9f3c-f1f1628a1018",
   "metadata": {},
   "outputs": [],
   "source": [
    "from langchain.embeddings import OllamaEmbeddings\n",
    "\n",
    "# Initialize Ollama embeddings\n",
    "embed = OllamaEmbeddings(base_url=\"http://localhost:11434\", model=\"nomic-embed-text\")\n",
    "\n",
    "# Create embeddings for the document chunks\n",
    "embeddings = embed.embed_documents(documents)\n"
   ]
  },
  {
   "cell_type": "code",
   "execution_count": 8,
   "id": "8082a175-559b-4f5c-9297-8e7aee02016c",
   "metadata": {},
   "outputs": [
    {
     "ename": "AttributeError",
     "evalue": "'FAISS' object has no attribute 'save'",
     "output_type": "error",
     "traceback": [
      "\u001b[1;31m---------------------------------------------------------------------------\u001b[0m",
      "\u001b[1;31mAttributeError\u001b[0m                            Traceback (most recent call last)",
      "Cell \u001b[1;32mIn[8], line 8\u001b[0m\n\u001b[0;32m      5\u001b[0m vector_store \u001b[38;5;241m=\u001b[39m FAISS\u001b[38;5;241m.\u001b[39mfrom_documents(documents, embed)\n\u001b[0;32m      7\u001b[0m \u001b[38;5;66;03m# Save vector store for future use\u001b[39;00m\n\u001b[1;32m----> 8\u001b[0m \u001b[43mvector_store\u001b[49m\u001b[38;5;241;43m.\u001b[39;49m\u001b[43msave\u001b[49m(\u001b[38;5;124m\"\u001b[39m\u001b[38;5;124mmy_vector_store.index\u001b[39m\u001b[38;5;124m\"\u001b[39m)\n",
      "\u001b[1;31mAttributeError\u001b[0m: 'FAISS' object has no attribute 'save'"
     ]
    }
   ],
   "source": [
    "from langchain.vectorstores import FAISS\n",
    "from langchain.embeddings import OllamaEmbeddings\n",
    "\n",
    "# Initialize the FAISS vector store (or another vector store you prefer)\n",
    "vector_store = FAISS.from_documents(documents, embed)\n",
    "\n",
    "# Save vector store for future use\n",
    "vector_store.save(\"my_vector_store.index\")\n"
   ]
  },
  {
   "cell_type": "code",
   "execution_count": 12,
   "id": "2c2824db-68dc-4ce2-8730-d548ee8458d7",
   "metadata": {},
   "outputs": [],
   "source": [
    "import faiss\n",
    "# Save the FAISS index to a file (use the faiss.write_index method)\n",
    "faiss.write_index(vector_store.index, \"my_vector_store.index\")"
   ]
  },
  {
   "cell_type": "code",
   "execution_count": 13,
   "id": "8b20e04b-4727-4a1d-94bd-2ca9b6408930",
   "metadata": {},
   "outputs": [
    {
     "name": "stdout",
     "output_type": "stream",
     "text": [
      "[Document(id='8ad27fcf-2910-4800-8a8a-3d842759cacf', metadata={'producer': 'macOS Version 10.15.7 (Build 19H2026) Quartz PDFContext', 'creator': 'Word', 'creationdate': \"D:20230721233629Z00'00'\", 'title': 'Microsoft Word - Herbs that synergize with Carboplatin and Cisplatin V3.docx', 'moddate': \"D:20230721233629Z00'00'\", 'source': './Herbs that synergize with Carboplatin and Cisplatin V3.pdf', 'total_pages': 2, 'page': 0, 'page_label': '1'}, page_content='a.\\t\\t\\tCarboplatin\\tis\\tless\\ttoxic\\tto\\tthe\\tkidneys,\\tbut\\tmore\\tmutagenic\\tand\\tdamaging\\tto\\tthe\\tbone\\tmarrow\\tand\\tblood\\tcell\\tcounts\\tthan\\tcisplatin.\\tCarboplatin\\tproduces\\telectrolyte\\t(blood\\tminerals)\\timbalances,\\tnausea\\tand\\tvomiting,\\tabnormal\\tliver\\tfunction,\\tnerve\\tdamage,\\tand\\tmuscle\\tpain.\\tConsider\\textra\\tglutamine'), Document(id='cade82d6-b2ff-45b3-9f5e-46185195a6f9', metadata={'producer': 'macOS Version 10.15.7 (Build 19H2026) Quartz PDFContext', 'creator': 'Word', 'creationdate': \"D:20230721233629Z00'00'\", 'title': 'Microsoft Word - Herbs that synergize with Carboplatin and Cisplatin V3.docx', 'moddate': \"D:20230721233629Z00'00'\", 'source': './Herbs that synergize with Carboplatin and Cisplatin V3.pdf', 'total_pages': 2, 'page': 0, 'page_label': '1'}, page_content='inc,\\tand\\tselenium\\tcan\\tblunt\\ttumor\\tresistance\\tto\\tcisplatin\\tand\\tcarboplatin,\\twhile\\tincreasing\\tefficacy.\\tMilk\\tthistle\\tis\\talso\\ta\\tgreat\\tliver\\tprotectant.\\tTheanine\\tincreases\\tdrug\\tconcentration\\tin\\ta\\ttumor\\tthrough\\tinhibition\\tof\\tthe\\tglutamate\\ttransporter\\tvia\\tthe\\tGS-X\\tpump.\\tOmega\\t3\\tfish\\toil\\tmay\\tprevent\\tkidney'), Document(id='40672586-287b-43aa-8dd2-f4b9df75b43f', metadata={'producer': 'macOS Version 10.15.7 (Build 19H2026) Quartz PDFContext', 'creator': 'Word', 'creationdate': \"D:20230721233629Z00'00'\", 'title': 'Microsoft Word - Herbs that synergize with Carboplatin and Cisplatin V3.docx', 'moddate': \"D:20230721233629Z00'00'\", 'source': './Herbs that synergize with Carboplatin and Cisplatin V3.pdf', 'total_pages': 2, 'page': 0, 'page_label': '1'}, page_content='der\\textra\\tglutamine\\tand\\tmilk\\tthistle\\twith\\tcarboplatin,\\tand\\tcytokine\\tmodulators\\tsuch\\tas\\tastragalus\\tand\\tReishi\\tmushroom.\\tDCA\\tis\\tgood\\twith\\tcarboplatin.\\t\\t\\tDo\\tnot\\tcasually\\tmix\\tplatinum\\tdrugs\\twith\\tDichloroacetate\\t(DCA),\\tN-acetyl\\tcysteine\\t(NAC),\\tglutathione\\t(GSH),\\talpha\\tlipoic\\tacid\\t(ALA),\\tGinkgo\\tbiloba,\\tsq'), Document(id='4c4e8761-f04b-4a6e-8ef3-a11006726b31', metadata={'producer': 'macOS Version 10.15.7 (Build 19H2026) Quartz PDFContext', 'creator': 'Word', 'creationdate': \"D:20230721233629Z00'00'\", 'title': 'Microsoft Word - Herbs that synergize with Carboplatin and Cisplatin V3.docx', 'moddate': \"D:20230721233629Z00'00'\", 'source': './Herbs that synergize with Carboplatin and Cisplatin V3.pdf', 'total_pages': 2, 'page': 0, 'page_label': '1'}, page_content='Herbs that Synergize or Reduce Effectiveness of Carboplatin and Cisplatin  \\nDisclaimer: This document is for informational purposes, does not constitute medical advice, and should not replace the advice of a medical professional.')]\n"
     ]
    }
   ],
   "source": [
    "query = \"Summarize the article about Carboplatin usage in cancer treatment.\"\n",
    "\n",
    "# Retrieve the relevant document chunks\n",
    "retrieved_docs = vector_store.similarity_search(query)\n",
    "print(retrieved_docs)\n"
   ]
  },
  {
   "cell_type": "code",
   "execution_count": 14,
   "id": "99007d55-c4ae-406e-93c9-892731811602",
   "metadata": {},
   "outputs": [
    {
     "name": "stderr",
     "output_type": "stream",
     "text": [
      "C:\\Users\\premm\\AppData\\Local\\Temp\\ipykernel_14780\\3243159365.py:5: LangChainDeprecationWarning: The class `Ollama` was deprecated in LangChain 0.3.1 and will be removed in 1.0.0. An updated version of the class exists in the :class:`~langchain-ollama package and should be used instead. To use it run `pip install -U :class:`~langchain-ollama` and import as `from :class:`~langchain_ollama import OllamaLLM``.\n",
      "  llm = Ollama(model=\"monic-chat\")\n"
     ]
    },
    {
     "ename": "ValueError",
     "evalue": "Got unsupported chain type: <langchain_community.vectorstores.faiss.FAISS object at 0x000002397C70EAB0>. Should be one of dict_keys(['stuff', 'map_reduce', 'refine', 'map_rerank'])",
     "output_type": "error",
     "traceback": [
      "\u001b[1;31m---------------------------------------------------------------------------\u001b[0m",
      "\u001b[1;31mValueError\u001b[0m                                Traceback (most recent call last)",
      "Cell \u001b[1;32mIn[14], line 8\u001b[0m\n\u001b[0;32m      5\u001b[0m llm \u001b[38;5;241m=\u001b[39m Ollama(model\u001b[38;5;241m=\u001b[39m\u001b[38;5;124m\"\u001b[39m\u001b[38;5;124mmonic-chat\u001b[39m\u001b[38;5;124m\"\u001b[39m)\n\u001b[0;32m      7\u001b[0m \u001b[38;5;66;03m# Use the retrieval-augmented chain to generate the summary\u001b[39;00m\n\u001b[1;32m----> 8\u001b[0m qa_chain \u001b[38;5;241m=\u001b[39m \u001b[43mRetrievalQA\u001b[49m\u001b[38;5;241;43m.\u001b[39;49m\u001b[43mfrom_chain_type\u001b[49m\u001b[43m(\u001b[49m\u001b[43mllm\u001b[49m\u001b[43m,\u001b[49m\u001b[43m \u001b[49m\u001b[43mvector_store\u001b[49m\u001b[43m)\u001b[49m\n\u001b[0;32m     10\u001b[0m \u001b[38;5;66;03m# Generate summary for the user input\u001b[39;00m\n\u001b[0;32m     11\u001b[0m response \u001b[38;5;241m=\u001b[39m qa_chain\u001b[38;5;241m.\u001b[39mrun(query)\n",
      "File \u001b[1;32m~\\AppData\\Local\\Packages\\PythonSoftwareFoundation.Python.3.12_qbz5n2kfra8p0\\LocalCache\\local-packages\\Python312\\site-packages\\langchain\\chains\\retrieval_qa\\base.py:115\u001b[0m, in \u001b[0;36mBaseRetrievalQA.from_chain_type\u001b[1;34m(cls, llm, chain_type, chain_type_kwargs, **kwargs)\u001b[0m\n\u001b[0;32m    113\u001b[0m \u001b[38;5;250m\u001b[39m\u001b[38;5;124;03m\"\"\"Load chain from chain type.\"\"\"\u001b[39;00m\n\u001b[0;32m    114\u001b[0m _chain_type_kwargs \u001b[38;5;241m=\u001b[39m chain_type_kwargs \u001b[38;5;129;01mor\u001b[39;00m {}\n\u001b[1;32m--> 115\u001b[0m combine_documents_chain \u001b[38;5;241m=\u001b[39m \u001b[43mload_qa_chain\u001b[49m\u001b[43m(\u001b[49m\n\u001b[0;32m    116\u001b[0m \u001b[43m    \u001b[49m\u001b[43mllm\u001b[49m\u001b[43m,\u001b[49m\u001b[43m \u001b[49m\u001b[43mchain_type\u001b[49m\u001b[38;5;241;43m=\u001b[39;49m\u001b[43mchain_type\u001b[49m\u001b[43m,\u001b[49m\u001b[43m \u001b[49m\u001b[38;5;241;43m*\u001b[39;49m\u001b[38;5;241;43m*\u001b[39;49m\u001b[43m_chain_type_kwargs\u001b[49m\n\u001b[0;32m    117\u001b[0m \u001b[43m\u001b[49m\u001b[43m)\u001b[49m\n\u001b[0;32m    118\u001b[0m \u001b[38;5;28;01mreturn\u001b[39;00m \u001b[38;5;28mcls\u001b[39m(combine_documents_chain\u001b[38;5;241m=\u001b[39mcombine_documents_chain, \u001b[38;5;241m*\u001b[39m\u001b[38;5;241m*\u001b[39mkwargs)\n",
      "File \u001b[1;32m~\\AppData\\Local\\Packages\\PythonSoftwareFoundation.Python.3.12_qbz5n2kfra8p0\\LocalCache\\local-packages\\Python312\\site-packages\\langchain_core\\_api\\deprecation.py:181\u001b[0m, in \u001b[0;36mdeprecated.<locals>.deprecate.<locals>.warning_emitting_wrapper\u001b[1;34m(*args, **kwargs)\u001b[0m\n\u001b[0;32m    179\u001b[0m     warned \u001b[38;5;241m=\u001b[39m \u001b[38;5;28;01mTrue\u001b[39;00m\n\u001b[0;32m    180\u001b[0m     emit_warning()\n\u001b[1;32m--> 181\u001b[0m \u001b[38;5;28;01mreturn\u001b[39;00m \u001b[43mwrapped\u001b[49m\u001b[43m(\u001b[49m\u001b[38;5;241;43m*\u001b[39;49m\u001b[43margs\u001b[49m\u001b[43m,\u001b[49m\u001b[43m \u001b[49m\u001b[38;5;241;43m*\u001b[39;49m\u001b[38;5;241;43m*\u001b[39;49m\u001b[43mkwargs\u001b[49m\u001b[43m)\u001b[49m\n",
      "File \u001b[1;32m~\\AppData\\Local\\Packages\\PythonSoftwareFoundation.Python.3.12_qbz5n2kfra8p0\\LocalCache\\local-packages\\Python312\\site-packages\\langchain\\chains\\question_answering\\chain.py:261\u001b[0m, in \u001b[0;36mload_qa_chain\u001b[1;34m(llm, chain_type, verbose, callback_manager, **kwargs)\u001b[0m\n\u001b[0;32m    254\u001b[0m loader_mapping: Mapping[\u001b[38;5;28mstr\u001b[39m, LoadingCallable] \u001b[38;5;241m=\u001b[39m {\n\u001b[0;32m    255\u001b[0m     \u001b[38;5;124m\"\u001b[39m\u001b[38;5;124mstuff\u001b[39m\u001b[38;5;124m\"\u001b[39m: _load_stuff_chain,\n\u001b[0;32m    256\u001b[0m     \u001b[38;5;124m\"\u001b[39m\u001b[38;5;124mmap_reduce\u001b[39m\u001b[38;5;124m\"\u001b[39m: _load_map_reduce_chain,\n\u001b[0;32m    257\u001b[0m     \u001b[38;5;124m\"\u001b[39m\u001b[38;5;124mrefine\u001b[39m\u001b[38;5;124m\"\u001b[39m: _load_refine_chain,\n\u001b[0;32m    258\u001b[0m     \u001b[38;5;124m\"\u001b[39m\u001b[38;5;124mmap_rerank\u001b[39m\u001b[38;5;124m\"\u001b[39m: _load_map_rerank_chain,\n\u001b[0;32m    259\u001b[0m }\n\u001b[0;32m    260\u001b[0m \u001b[38;5;28;01mif\u001b[39;00m chain_type \u001b[38;5;129;01mnot\u001b[39;00m \u001b[38;5;129;01min\u001b[39;00m loader_mapping:\n\u001b[1;32m--> 261\u001b[0m     \u001b[38;5;28;01mraise\u001b[39;00m \u001b[38;5;167;01mValueError\u001b[39;00m(\n\u001b[0;32m    262\u001b[0m         \u001b[38;5;124mf\u001b[39m\u001b[38;5;124m\"\u001b[39m\u001b[38;5;124mGot unsupported chain type: \u001b[39m\u001b[38;5;132;01m{\u001b[39;00mchain_type\u001b[38;5;132;01m}\u001b[39;00m\u001b[38;5;124m. \u001b[39m\u001b[38;5;124m\"\u001b[39m\n\u001b[0;32m    263\u001b[0m         \u001b[38;5;124mf\u001b[39m\u001b[38;5;124m\"\u001b[39m\u001b[38;5;124mShould be one of \u001b[39m\u001b[38;5;132;01m{\u001b[39;00mloader_mapping\u001b[38;5;241m.\u001b[39mkeys()\u001b[38;5;132;01m}\u001b[39;00m\u001b[38;5;124m\"\u001b[39m\n\u001b[0;32m    264\u001b[0m     )\n\u001b[0;32m    265\u001b[0m \u001b[38;5;28;01mreturn\u001b[39;00m loader_mapping[chain_type](\n\u001b[0;32m    266\u001b[0m     llm, verbose\u001b[38;5;241m=\u001b[39mverbose, callback_manager\u001b[38;5;241m=\u001b[39mcallback_manager, \u001b[38;5;241m*\u001b[39m\u001b[38;5;241m*\u001b[39mkwargs\n\u001b[0;32m    267\u001b[0m )\n",
      "\u001b[1;31mValueError\u001b[0m: Got unsupported chain type: <langchain_community.vectorstores.faiss.FAISS object at 0x000002397C70EAB0>. Should be one of dict_keys(['stuff', 'map_reduce', 'refine', 'map_rerank'])"
     ]
    }
   ],
   "source": [
    "from langchain.chains import RetrievalQA\n",
    "from langchain.llms import Ollama\n",
    "\n",
    "# Initialize the LLM with Ollama or another language model\n",
    "llm = Ollama(model=\"monic-chat\")\n",
    "\n",
    "# Use the retrieval-augmented chain to generate the summary\n",
    "qa_chain = RetrievalQA.from_chain_type(llm, vector_store)\n",
    "\n",
    "# Generate summary for the user input\n",
    "response = qa_chain.run(query)\n",
    "print(response)\n"
   ]
  }
 ],
 "metadata": {
  "kernelspec": {
   "display_name": "Python 3 (ipykernel)",
   "language": "python",
   "name": "python3"
  },
  "language_info": {
   "codemirror_mode": {
    "name": "ipython",
    "version": 3
   },
   "file_extension": ".py",
   "mimetype": "text/x-python",
   "name": "python",
   "nbconvert_exporter": "python",
   "pygments_lexer": "ipython3",
   "version": "3.12.9"
  }
 },
 "nbformat": 4,
 "nbformat_minor": 5
}
